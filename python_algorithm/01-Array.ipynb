{
 "cells": [
  {
   "cell_type": "markdown",
   "id": "5505baa6",
   "metadata": {},
   "source": [
    "### 배열(Array)"
   ]
  },
  {
   "cell_type": "markdown",
   "id": "14f99018",
   "metadata": {},
   "source": [
    "- 데이터를 나열하고, 각 데이터를 인덱스에 대응하도록 구성한 데이터 구조\n",
    "- 파이썬에서는 리스트 타입이 배열 기능을 제공하고 있음"
   ]
  },
  {
   "cell_type": "markdown",
   "id": "65ae0f18",
   "metadata": {},
   "source": [
    "## 1. 배열이 필요한 이유\n",
    "\n",
    "- 같은 종류의 데이터를 효율적으로 관리하기 위해 사용\n",
    "- 같은 종류의 데이터를 순차적으로 저장"
   ]
  },
  {
   "cell_type": "markdown",
   "id": "ffa412ce",
   "metadata": {},
   "source": [
    "- 배열의 장점:\n",
    "    - 빠른 접근 가능\n",
    "- 배열의 단점:\n",
    "    - 추가/삭제가 쉽지 않음\n",
    "    - 미리 최대 길이를 지정해야 함"
   ]
  },
  {
   "cell_type": "markdown",
   "id": "b372407a",
   "metadata": {},
   "source": [
    "## 2. 파이썬과 C언어의 배열 예제"
   ]
  },
  {
   "cell_type": "code",
   "execution_count": null,
   "id": "b203c9b0",
   "metadata": {},
   "outputs": [],
   "source": [
    "# c 언어\n",
    "\n",
    "int main(int argc, char * argv[])\n",
    "{\n",
    "    char country[3] = \"US\"\n",
    "    printf(\"%c%c\\n\", country[0], country[1]);\n",
    "    printf(\"%s\\n\", country);\n",
    "    return 0;    \n",
    "}"
   ]
  },
  {
   "cell_type": "code",
   "execution_count": 2,
   "id": "7a8fd879",
   "metadata": {},
   "outputs": [
    {
     "name": "stdout",
     "output_type": "stream",
     "text": [
      "US\n",
      "USA\n"
     ]
    }
   ],
   "source": [
    "country = 'US'\n",
    "print(country)\n",
    "\n",
    "country = country + 'A'\n",
    "print(country)"
   ]
  },
  {
   "cell_type": "markdown",
   "id": "fb2b6731",
   "metadata": {},
   "source": [
    "## 3. 파이썬과 배열\n",
    "- 파이썬 리스트 활용"
   ]
  },
  {
   "cell_type": "code",
   "execution_count": 3,
   "id": "ce4485d5",
   "metadata": {},
   "outputs": [
    {
     "name": "stdout",
     "output_type": "stream",
     "text": [
      "[1, 2, 3, 4, 5]\n"
     ]
    }
   ],
   "source": [
    "# 1차원 배열: 리스트로 구현시\n",
    "data = [1, 2, 3, 4, 5]\n",
    "print(data)"
   ]
  },
  {
   "cell_type": "code",
   "execution_count": 5,
   "id": "252eaaa9",
   "metadata": {},
   "outputs": [
    {
     "data": {
      "text/plain": [
       "[[1, 2, 3], [4, 5, 6], [7, 8, 9]]"
      ]
     },
     "execution_count": 5,
     "metadata": {},
     "output_type": "execute_result"
    }
   ],
   "source": [
    "# 2차원 배열 리스트로 구현시\n",
    "data = [[1, 2, 3], [4, 5, 6], [7, 8, 9]]\n",
    "data"
   ]
  },
  {
   "cell_type": "code",
   "execution_count": 6,
   "id": "a2d6f6a7",
   "metadata": {},
   "outputs": [
    {
     "name": "stdout",
     "output_type": "stream",
     "text": [
      "[1, 2, 3]\n"
     ]
    }
   ],
   "source": [
    "print(data[0])"
   ]
  },
  {
   "cell_type": "code",
   "execution_count": 7,
   "id": "cb65d398",
   "metadata": {},
   "outputs": [
    {
     "name": "stdout",
     "output_type": "stream",
     "text": [
      "1\n",
      "4\n"
     ]
    }
   ],
   "source": [
    "print(data[0][0])\n",
    "print(data[1][0])"
   ]
  },
  {
   "cell_type": "markdown",
   "id": "5358003b",
   "metadata": {},
   "source": [
    "## 4. 프로그래밍 연습"
   ]
  },
  {
   "cell_type": "markdown",
   "id": "01daabe7",
   "metadata": {},
   "source": [
    "#### 연습 1. 이름들이 들어있는 리스트에서 M이 총 몇번 나오는지 카운팅하기"
   ]
  },
  {
   "cell_type": "code",
   "execution_count": null,
   "id": "588ca3fb",
   "metadata": {},
   "outputs": [],
   "source": [
    "m_count = 0\n",
    "for data in dataset:\n",
    "    for idx in range(len(data)):\n",
    "        if data[idx] == 'M':\n",
    "            m_count += 1\n",
    "print(m_count)"
   ]
  },
  {
   "cell_type": "markdown",
   "id": "626e4df9",
   "metadata": {},
   "source": [
    "### 5. Queue library 사용 및 구현"
   ]
  },
  {
   "cell_type": "markdown",
   "id": "03ae85c5",
   "metadata": {},
   "source": [
    "#### 일반적인 queue library"
   ]
  },
  {
   "cell_type": "code",
   "execution_count": 10,
   "id": "26d42800",
   "metadata": {},
   "outputs": [],
   "source": [
    "import queue\n",
    "\n",
    "data_queue = queue.Queue()"
   ]
  },
  {
   "cell_type": "code",
   "execution_count": 11,
   "id": "18fe2b7b",
   "metadata": {},
   "outputs": [],
   "source": [
    "data_queue.put(\"funcoding\")\n",
    "data_queue.put(1)"
   ]
  },
  {
   "cell_type": "code",
   "execution_count": 12,
   "id": "bf194ef8",
   "metadata": {},
   "outputs": [
    {
     "data": {
      "text/plain": [
       "2"
      ]
     },
     "execution_count": 12,
     "metadata": {},
     "output_type": "execute_result"
    }
   ],
   "source": [
    "data_queue.qsize()"
   ]
  },
  {
   "cell_type": "code",
   "execution_count": 13,
   "id": "2a0791ec",
   "metadata": {},
   "outputs": [
    {
     "data": {
      "text/plain": [
       "'funcoding'"
      ]
     },
     "execution_count": 13,
     "metadata": {},
     "output_type": "execute_result"
    }
   ],
   "source": [
    "data_queue.get()"
   ]
  },
  {
   "cell_type": "code",
   "execution_count": 14,
   "id": "01770a68",
   "metadata": {},
   "outputs": [
    {
     "data": {
      "text/plain": [
       "1"
      ]
     },
     "execution_count": 14,
     "metadata": {},
     "output_type": "execute_result"
    }
   ],
   "source": [
    "data_queue.qsize()"
   ]
  },
  {
   "cell_type": "code",
   "execution_count": 15,
   "id": "cce77e4c",
   "metadata": {},
   "outputs": [
    {
     "data": {
      "text/plain": [
       "1"
      ]
     },
     "execution_count": 15,
     "metadata": {},
     "output_type": "execute_result"
    }
   ],
   "source": [
    "data_queue.get()"
   ]
  },
  {
   "cell_type": "markdown",
   "id": "dc39646e",
   "metadata": {},
   "source": [
    "#### lifo queue library"
   ]
  },
  {
   "cell_type": "code",
   "execution_count": 17,
   "id": "d7426b7c",
   "metadata": {},
   "outputs": [],
   "source": [
    "import queue\n",
    "data_queue = queue.LifoQueue()"
   ]
  },
  {
   "cell_type": "code",
   "execution_count": 19,
   "id": "529936e3",
   "metadata": {},
   "outputs": [],
   "source": [
    "data_queue.put(\"funcoding\")\n",
    "data_queue.put(1)"
   ]
  },
  {
   "cell_type": "code",
   "execution_count": 20,
   "id": "18863e70",
   "metadata": {},
   "outputs": [
    {
     "data": {
      "text/plain": [
       "2"
      ]
     },
     "execution_count": 20,
     "metadata": {},
     "output_type": "execute_result"
    }
   ],
   "source": [
    "data_queue.qsize()"
   ]
  },
  {
   "cell_type": "code",
   "execution_count": 21,
   "id": "4c14365f",
   "metadata": {},
   "outputs": [
    {
     "data": {
      "text/plain": [
       "1"
      ]
     },
     "execution_count": 21,
     "metadata": {},
     "output_type": "execute_result"
    }
   ],
   "source": [
    "data_queue.get()"
   ]
  },
  {
   "cell_type": "markdown",
   "id": "e09228c8",
   "metadata": {},
   "source": [
    "#### priority queue library"
   ]
  },
  {
   "cell_type": "code",
   "execution_count": 23,
   "id": "83f2b016",
   "metadata": {},
   "outputs": [],
   "source": [
    "import queue\n",
    "\n",
    "data_queue = queue.PriorityQueue()"
   ]
  },
  {
   "cell_type": "code",
   "execution_count": 24,
   "id": "6183165b",
   "metadata": {},
   "outputs": [],
   "source": [
    "data_queue.put((10, \"Korea\"))\n",
    "data_queue.put((12, \"USA\"))\n",
    "data_queue.put((5, 1))"
   ]
  },
  {
   "cell_type": "code",
   "execution_count": 25,
   "id": "2babca24",
   "metadata": {},
   "outputs": [
    {
     "data": {
      "text/plain": [
       "3"
      ]
     },
     "execution_count": 25,
     "metadata": {},
     "output_type": "execute_result"
    }
   ],
   "source": [
    "data_queue.qsize()"
   ]
  },
  {
   "cell_type": "code",
   "execution_count": 26,
   "id": "25fd2dd8",
   "metadata": {},
   "outputs": [
    {
     "data": {
      "text/plain": [
       "(5, 1)"
      ]
     },
     "execution_count": 26,
     "metadata": {},
     "output_type": "execute_result"
    }
   ],
   "source": [
    "data_queue.get()"
   ]
  },
  {
   "cell_type": "markdown",
   "id": "483be428",
   "metadata": {},
   "source": [
    "#### enque, dequeue 구현하기"
   ]
  },
  {
   "cell_type": "code",
   "execution_count": 28,
   "id": "47b90c9c",
   "metadata": {},
   "outputs": [],
   "source": [
    "queue_list = list()\n",
    "\n",
    "def enqueue(data):\n",
    "    queue_list.append(data)\n",
    "    \n",
    "def dequeue():\n",
    "    data = queue_list[0]\n",
    "    del queue_list[0]\n",
    "    return data"
   ]
  },
  {
   "cell_type": "code",
   "execution_count": 29,
   "id": "34c22c66",
   "metadata": {},
   "outputs": [],
   "source": [
    "for idx in range(10):\n",
    "    enqueue(idx)"
   ]
  },
  {
   "cell_type": "code",
   "execution_count": 30,
   "id": "b01c4487",
   "metadata": {},
   "outputs": [
    {
     "data": {
      "text/plain": [
       "10"
      ]
     },
     "execution_count": 30,
     "metadata": {},
     "output_type": "execute_result"
    }
   ],
   "source": [
    "len(queue_list)"
   ]
  },
  {
   "cell_type": "code",
   "execution_count": 33,
   "id": "6ee8387c",
   "metadata": {},
   "outputs": [
    {
     "data": {
      "text/plain": [
       "2"
      ]
     },
     "execution_count": 33,
     "metadata": {},
     "output_type": "execute_result"
    }
   ],
   "source": [
    "dequeue()"
   ]
  },
  {
   "cell_type": "code",
   "execution_count": null,
   "id": "321acda7",
   "metadata": {},
   "outputs": [],
   "source": []
  }
 ],
 "metadata": {
  "kernelspec": {
   "display_name": "Python 3 (ipykernel)",
   "language": "python",
   "name": "python3"
  },
  "language_info": {
   "codemirror_mode": {
    "name": "ipython",
    "version": 3
   },
   "file_extension": ".py",
   "mimetype": "text/x-python",
   "name": "python",
   "nbconvert_exporter": "python",
   "pygments_lexer": "ipython3",
   "version": "3.9.7"
  }
 },
 "nbformat": 4,
 "nbformat_minor": 5
}
