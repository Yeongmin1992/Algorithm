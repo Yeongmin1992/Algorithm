{
 "cells": [
  {
   "cell_type": "markdown",
   "id": "75906d6f",
   "metadata": {},
   "source": [
    "### 백준 문풀"
   ]
  },
  {
   "cell_type": "markdown",
   "id": "4d58959c",
   "metadata": {},
   "source": [
    "#### 2920"
   ]
  },
  {
   "cell_type": "code",
   "execution_count": 27,
   "id": "43834ac0",
   "metadata": {},
   "outputs": [
    {
     "name": "stdout",
     "output_type": "stream",
     "text": [
      "8 1 7 2 6 3 5 4\n",
      "[8, 1, 7, 2, 6, 3, 5, 4]\n",
      "[1, 2, 3, 4, 5, 6, 7, 8]\n",
      "[8, 7, 6, 5, 4, 3, 2, 1]\n",
      "mixed\n"
     ]
    }
   ],
   "source": [
    "input_array = input(\"\")\n",
    "input_array1 = input_array.split(\" \")\n",
    "input_array2 = [int(i) for i in input_array1]\n",
    "\n",
    "print(input_array2)\n",
    "print(sorted(input_array2))\n",
    "print(sorted(input_array2, reverse=True))\n",
    "\n",
    "if input_array2 == sorted(input_array2):\n",
    "    print(\"ascending\")\n",
    "elif input_array2 == sorted(input_array2, reverse=True):\n",
    "    print(\"descending\")\n",
    "else:\n",
    "    print(\"mixed\")"
   ]
  },
  {
   "cell_type": "code",
   "execution_count": 24,
   "id": "6fc4b063",
   "metadata": {},
   "outputs": [
    {
     "name": "stdout",
     "output_type": "stream",
     "text": [
      "1 2 3 4 5 6 7 8\n",
      "ascending\n"
     ]
    }
   ],
   "source": [
    "# 패켐 풀이\n",
    "\n",
    "a = list(map(int, input().split(' ')))\n",
    "\n",
    "ascending = True\n",
    "descending = True\n",
    "\n",
    "for i in range(1, 8):\n",
    "    if a[i] > a[i - 1]:\n",
    "        descending = False\n",
    "    elif a[i] < a[i - 1]:\n",
    "        ascending = False\n",
    "\n",
    "if ascending:\n",
    "    print('ascending')\n",
    "elif descending:\n",
    "    print('descending')\n",
    "else:\n",
    "    print('mixed')"
   ]
  },
  {
   "cell_type": "markdown",
   "id": "6e6d4731",
   "metadata": {},
   "source": [
    "#### 2798"
   ]
  },
  {
   "cell_type": "code",
   "execution_count": 30,
   "id": "573a251c",
   "metadata": {},
   "outputs": [
    {
     "name": "stdout",
     "output_type": "stream",
     "text": [
      "5 21\n",
      "5 6 7 8 9\n",
      "21\n"
     ]
    }
   ],
   "source": [
    "n, m = list(map(int, input().split(' ')))\n",
    "b = sorted(list(map(int, input().split(' '))))\n",
    "\n",
    "answer = 0\n",
    "for i in range(a[0] - 2):\n",
    "    for j in range(i + 1, a[0] - 1):\n",
    "        for x in range(j + 1, a[0]):\n",
    "            if b[i] + b[j] + b[x] > answer and b[i] + b[j] + b[x] <= a[1]:\n",
    "                answer = b[i] + b[j] + b[x]\n",
    "\n",
    "print(answer)\n",
    "    "
   ]
  },
  {
   "cell_type": "markdown",
   "id": "7ac83dae",
   "metadata": {},
   "source": [
    "#### 1874"
   ]
  },
  {
   "cell_type": "code",
   "execution_count": 17,
   "id": "a0aa8c07",
   "metadata": {
    "scrolled": true
   },
   "outputs": [
    {
     "name": "stdout",
     "output_type": "stream",
     "text": [
      "8\n",
      "4\n",
      "3\n",
      "6\n",
      "8\n",
      "7\n",
      "5\n",
      "2\n",
      "1\n",
      "+\n",
      "+\n",
      "+\n",
      "+\n",
      "-\n",
      "check\n",
      "[4, 3]\n",
      "temp\n",
      "[1, 2]\n",
      "+\n",
      "+\n",
      "-\n",
      "check\n",
      "[4, 3, 6]\n",
      "temp\n",
      "[1, 2, 5]\n",
      "+\n",
      "+\n",
      "-\n",
      "check\n",
      "[4, 3, 6, 8]\n",
      "temp\n",
      "[1, 2, 5, 7]\n",
      "-\n",
      "check\n",
      "[4, 3, 6, 8, 7]\n",
      "temp\n",
      "[1, 2, 5]\n",
      "-\n",
      "check\n",
      "[4, 3, 6, 8, 7, 5]\n",
      "temp\n",
      "[1, 2]\n",
      "-\n",
      "check\n",
      "[4, 3, 6, 8, 7, 5, 2]\n",
      "temp\n",
      "[1]\n",
      "-\n",
      "check\n",
      "[4, 3, 6, 8, 7, 5, 2, 1]\n",
      "temp\n",
      "[]\n"
     ]
    }
   ],
   "source": [
    "n = int(input())\n",
    "temp_list = []\n",
    "check_list = []\n",
    "target_list = []\n",
    "for i in range(n):\n",
    "    target_list.append(int(input()))\n",
    "\n",
    "for i in range(1, target_list[0] + 1):\n",
    "    print('+')\n",
    "    temp_list.append(i)\n",
    "    \n",
    "check_list.append(temp_list.pop())\n",
    "\n",
    "for val in target_list[1:]:\n",
    "    if val in temp_list:\n",
    "        if val == max(temp_list):\n",
    "            print('-')\n",
    "            check_list.append(temp_list.pop())\n",
    "        else:\n",
    "            break\n",
    "    else:\n",
    "        for i in range(max(check_list) + 1, val + 1):\n",
    "            print('+')\n",
    "            temp_list.append(i)\n",
    "        print('-')\n",
    "        check_list.append(temp_list.pop())\n",
    "\n",
    "if check_list != target_list:\n",
    "    print(\"NO\")"
   ]
  },
  {
   "cell_type": "code",
   "execution_count": null,
   "id": "577289a4",
   "metadata": {},
   "outputs": [],
   "source": []
  }
 ],
 "metadata": {
  "kernelspec": {
   "display_name": "Python 3 (ipykernel)",
   "language": "python",
   "name": "python3"
  },
  "language_info": {
   "codemirror_mode": {
    "name": "ipython",
    "version": 3
   },
   "file_extension": ".py",
   "mimetype": "text/x-python",
   "name": "python",
   "nbconvert_exporter": "python",
   "pygments_lexer": "ipython3",
   "version": "3.9.7"
  }
 },
 "nbformat": 4,
 "nbformat_minor": 5
}
