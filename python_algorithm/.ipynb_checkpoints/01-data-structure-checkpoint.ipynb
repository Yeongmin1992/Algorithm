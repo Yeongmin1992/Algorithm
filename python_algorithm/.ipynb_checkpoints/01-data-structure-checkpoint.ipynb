{
 "cells": [
  {
   "cell_type": "markdown",
   "id": "5505baa6",
   "metadata": {},
   "source": [
    "### 배열(Array)"
   ]
  },
  {
   "cell_type": "markdown",
   "id": "14f99018",
   "metadata": {},
   "source": [
    "- 데이터를 나열하고, 각 데이터를 인덱스에 대응하도록 구성한 데이터 구조\n",
    "- 파이썬에서는 리스트 타입이 배열 기능을 제공하고 있음"
   ]
  },
  {
   "cell_type": "markdown",
   "id": "65ae0f18",
   "metadata": {},
   "source": [
    "## 1. 배열이 필요한 이유\n",
    "\n",
    "- 같은 종류의 데이터를 효율적으로 관리하기 위해 사용\n",
    "- 같은 종류의 데이터를 순차적으로 저장"
   ]
  },
  {
   "cell_type": "markdown",
   "id": "ffa412ce",
   "metadata": {},
   "source": [
    "- 배열의 장점:\n",
    "    - 빠른 접근 가능\n",
    "- 배열의 단점:\n",
    "    - 추가/삭제가 쉽지 않음\n",
    "    - 미리 최대 길이를 지정해야 함"
   ]
  },
  {
   "cell_type": "markdown",
   "id": "b372407a",
   "metadata": {},
   "source": [
    "## 2. 파이썬과 C언어의 배열 예제"
   ]
  },
  {
   "cell_type": "code",
   "execution_count": null,
   "id": "b203c9b0",
   "metadata": {},
   "outputs": [],
   "source": [
    "# c 언어\n",
    "\n",
    "int main(int argc, char * argv[])\n",
    "{\n",
    "    char country[3] = \"US\"\n",
    "    printf(\"%c%c\\n\", country[0], country[1]);\n",
    "    printf(\"%s\\n\", country);\n",
    "    return 0;    \n",
    "}"
   ]
  },
  {
   "cell_type": "code",
   "execution_count": 2,
   "id": "7a8fd879",
   "metadata": {},
   "outputs": [
    {
     "name": "stdout",
     "output_type": "stream",
     "text": [
      "US\n",
      "USA\n"
     ]
    }
   ],
   "source": [
    "country = 'US'\n",
    "print(country)\n",
    "\n",
    "country = country + 'A'\n",
    "print(country)"
   ]
  },
  {
   "cell_type": "markdown",
   "id": "fb2b6731",
   "metadata": {},
   "source": [
    "## 3. 파이썬과 배열\n",
    "- 파이썬 리스트 활용"
   ]
  },
  {
   "cell_type": "code",
   "execution_count": 3,
   "id": "ce4485d5",
   "metadata": {},
   "outputs": [
    {
     "name": "stdout",
     "output_type": "stream",
     "text": [
      "[1, 2, 3, 4, 5]\n"
     ]
    }
   ],
   "source": [
    "# 1차원 배열: 리스트로 구현시\n",
    "data = [1, 2, 3, 4, 5]\n",
    "print(data)"
   ]
  },
  {
   "cell_type": "code",
   "execution_count": 5,
   "id": "252eaaa9",
   "metadata": {},
   "outputs": [
    {
     "data": {
      "text/plain": [
       "[[1, 2, 3], [4, 5, 6], [7, 8, 9]]"
      ]
     },
     "execution_count": 5,
     "metadata": {},
     "output_type": "execute_result"
    }
   ],
   "source": [
    "# 2차원 배열 리스트로 구현시\n",
    "data = [[1, 2, 3], [4, 5, 6], [7, 8, 9]]\n",
    "data"
   ]
  },
  {
   "cell_type": "code",
   "execution_count": 6,
   "id": "a2d6f6a7",
   "metadata": {},
   "outputs": [
    {
     "name": "stdout",
     "output_type": "stream",
     "text": [
      "[1, 2, 3]\n"
     ]
    }
   ],
   "source": [
    "print(data[0])"
   ]
  },
  {
   "cell_type": "code",
   "execution_count": 7,
   "id": "cb65d398",
   "metadata": {},
   "outputs": [
    {
     "name": "stdout",
     "output_type": "stream",
     "text": [
      "1\n",
      "4\n"
     ]
    }
   ],
   "source": [
    "print(data[0][0])\n",
    "print(data[1][0])"
   ]
  },
  {
   "cell_type": "markdown",
   "id": "5358003b",
   "metadata": {},
   "source": [
    "## 4. 프로그래밍 연습"
   ]
  },
  {
   "cell_type": "markdown",
   "id": "01daabe7",
   "metadata": {},
   "source": [
    "#### 연습 1. 이름들이 들어있는 리스트에서 M이 총 몇번 나오는지 카운팅하기"
   ]
  },
  {
   "cell_type": "code",
   "execution_count": null,
   "id": "588ca3fb",
   "metadata": {},
   "outputs": [],
   "source": [
    "m_count = 0\n",
    "for data in dataset:\n",
    "    for idx in range(len(data)):\n",
    "        if data[idx] == 'M':\n",
    "            m_count += 1\n",
    "print(m_count)"
   ]
  },
  {
   "cell_type": "markdown",
   "id": "626e4df9",
   "metadata": {},
   "source": [
    "## 5. Queue library 사용 및 구현"
   ]
  },
  {
   "cell_type": "markdown",
   "id": "03ae85c5",
   "metadata": {},
   "source": [
    "#### 일반적인 queue library"
   ]
  },
  {
   "cell_type": "code",
   "execution_count": 10,
   "id": "26d42800",
   "metadata": {},
   "outputs": [],
   "source": [
    "import queue\n",
    "\n",
    "data_queue = queue.Queue()"
   ]
  },
  {
   "cell_type": "code",
   "execution_count": 11,
   "id": "18fe2b7b",
   "metadata": {},
   "outputs": [],
   "source": [
    "data_queue.put(\"funcoding\")\n",
    "data_queue.put(1)"
   ]
  },
  {
   "cell_type": "code",
   "execution_count": 12,
   "id": "bf194ef8",
   "metadata": {},
   "outputs": [
    {
     "data": {
      "text/plain": [
       "2"
      ]
     },
     "execution_count": 12,
     "metadata": {},
     "output_type": "execute_result"
    }
   ],
   "source": [
    "data_queue.qsize()"
   ]
  },
  {
   "cell_type": "code",
   "execution_count": 13,
   "id": "2a0791ec",
   "metadata": {},
   "outputs": [
    {
     "data": {
      "text/plain": [
       "'funcoding'"
      ]
     },
     "execution_count": 13,
     "metadata": {},
     "output_type": "execute_result"
    }
   ],
   "source": [
    "data_queue.get()"
   ]
  },
  {
   "cell_type": "code",
   "execution_count": 14,
   "id": "01770a68",
   "metadata": {},
   "outputs": [
    {
     "data": {
      "text/plain": [
       "1"
      ]
     },
     "execution_count": 14,
     "metadata": {},
     "output_type": "execute_result"
    }
   ],
   "source": [
    "data_queue.qsize()"
   ]
  },
  {
   "cell_type": "code",
   "execution_count": 15,
   "id": "cce77e4c",
   "metadata": {},
   "outputs": [
    {
     "data": {
      "text/plain": [
       "1"
      ]
     },
     "execution_count": 15,
     "metadata": {},
     "output_type": "execute_result"
    }
   ],
   "source": [
    "data_queue.get()"
   ]
  },
  {
   "cell_type": "markdown",
   "id": "dc39646e",
   "metadata": {},
   "source": [
    "#### lifo queue library"
   ]
  },
  {
   "cell_type": "code",
   "execution_count": 17,
   "id": "d7426b7c",
   "metadata": {},
   "outputs": [],
   "source": [
    "import queue\n",
    "data_queue = queue.LifoQueue()"
   ]
  },
  {
   "cell_type": "code",
   "execution_count": 19,
   "id": "529936e3",
   "metadata": {},
   "outputs": [],
   "source": [
    "data_queue.put(\"funcoding\")\n",
    "data_queue.put(1)"
   ]
  },
  {
   "cell_type": "code",
   "execution_count": 20,
   "id": "18863e70",
   "metadata": {},
   "outputs": [
    {
     "data": {
      "text/plain": [
       "2"
      ]
     },
     "execution_count": 20,
     "metadata": {},
     "output_type": "execute_result"
    }
   ],
   "source": [
    "data_queue.qsize()"
   ]
  },
  {
   "cell_type": "code",
   "execution_count": 21,
   "id": "4c14365f",
   "metadata": {},
   "outputs": [
    {
     "data": {
      "text/plain": [
       "1"
      ]
     },
     "execution_count": 21,
     "metadata": {},
     "output_type": "execute_result"
    }
   ],
   "source": [
    "data_queue.get()"
   ]
  },
  {
   "cell_type": "markdown",
   "id": "e09228c8",
   "metadata": {},
   "source": [
    "#### priority queue library"
   ]
  },
  {
   "cell_type": "code",
   "execution_count": 23,
   "id": "83f2b016",
   "metadata": {},
   "outputs": [],
   "source": [
    "import queue\n",
    "\n",
    "data_queue = queue.PriorityQueue()"
   ]
  },
  {
   "cell_type": "code",
   "execution_count": 24,
   "id": "6183165b",
   "metadata": {},
   "outputs": [],
   "source": [
    "data_queue.put((10, \"Korea\"))\n",
    "data_queue.put((12, \"USA\"))\n",
    "data_queue.put((5, 1))"
   ]
  },
  {
   "cell_type": "code",
   "execution_count": 25,
   "id": "2babca24",
   "metadata": {},
   "outputs": [
    {
     "data": {
      "text/plain": [
       "3"
      ]
     },
     "execution_count": 25,
     "metadata": {},
     "output_type": "execute_result"
    }
   ],
   "source": [
    "data_queue.qsize()"
   ]
  },
  {
   "cell_type": "code",
   "execution_count": 26,
   "id": "25fd2dd8",
   "metadata": {},
   "outputs": [
    {
     "data": {
      "text/plain": [
       "(5, 1)"
      ]
     },
     "execution_count": 26,
     "metadata": {},
     "output_type": "execute_result"
    }
   ],
   "source": [
    "data_queue.get()"
   ]
  },
  {
   "cell_type": "markdown",
   "id": "483be428",
   "metadata": {},
   "source": [
    "#### enque, dequeue 구현하기"
   ]
  },
  {
   "cell_type": "code",
   "execution_count": 28,
   "id": "47b90c9c",
   "metadata": {},
   "outputs": [],
   "source": [
    "queue_list = list()\n",
    "\n",
    "def enqueue(data):\n",
    "    queue_list.append(data)\n",
    "    \n",
    "def dequeue():\n",
    "    data = queue_list[0]\n",
    "    del queue_list[0]\n",
    "    return data"
   ]
  },
  {
   "cell_type": "code",
   "execution_count": 29,
   "id": "34c22c66",
   "metadata": {},
   "outputs": [],
   "source": [
    "for idx in range(10):\n",
    "    enqueue(idx)"
   ]
  },
  {
   "cell_type": "code",
   "execution_count": 30,
   "id": "b01c4487",
   "metadata": {},
   "outputs": [
    {
     "data": {
      "text/plain": [
       "10"
      ]
     },
     "execution_count": 30,
     "metadata": {},
     "output_type": "execute_result"
    }
   ],
   "source": [
    "len(queue_list)"
   ]
  },
  {
   "cell_type": "code",
   "execution_count": 33,
   "id": "6ee8387c",
   "metadata": {},
   "outputs": [
    {
     "data": {
      "text/plain": [
       "2"
      ]
     },
     "execution_count": 33,
     "metadata": {},
     "output_type": "execute_result"
    }
   ],
   "source": [
    "dequeue()"
   ]
  },
  {
   "cell_type": "markdown",
   "id": "dab9bbad",
   "metadata": {},
   "source": [
    "## 6. Stack library 사용 및 구현"
   ]
  },
  {
   "cell_type": "code",
   "execution_count": 1,
   "id": "7b5a0287",
   "metadata": {},
   "outputs": [],
   "source": [
    "# 재귀 함수\n",
    "def recursive(data):\n",
    "    if data < 0:\n",
    "        print(\"ended\")\n",
    "    else:\n",
    "        print(data)\n",
    "        recursive(data - 1)\n",
    "        print(\"returned\", data)"
   ]
  },
  {
   "cell_type": "code",
   "execution_count": 3,
   "id": "b93cd306",
   "metadata": {},
   "outputs": [
    {
     "name": "stdout",
     "output_type": "stream",
     "text": [
      "4\n",
      "3\n",
      "2\n",
      "1\n",
      "0\n",
      "ended\n",
      "returned 0\n",
      "returned 1\n",
      "returned 2\n",
      "returned 3\n",
      "returned 4\n"
     ]
    }
   ],
   "source": [
    "recursive(4)"
   ]
  },
  {
   "cell_type": "code",
   "execution_count": 4,
   "id": "cc99a7b5",
   "metadata": {},
   "outputs": [],
   "source": [
    "data_stack = list()\n",
    "\n",
    "data_stack.append(1)\n",
    "data_stack.append(2)"
   ]
  },
  {
   "cell_type": "code",
   "execution_count": 5,
   "id": "3b96c177",
   "metadata": {},
   "outputs": [
    {
     "data": {
      "text/plain": [
       "[1, 2]"
      ]
     },
     "execution_count": 5,
     "metadata": {},
     "output_type": "execute_result"
    }
   ],
   "source": [
    "data_stack"
   ]
  },
  {
   "cell_type": "code",
   "execution_count": 6,
   "id": "f094fbe7",
   "metadata": {},
   "outputs": [
    {
     "data": {
      "text/plain": [
       "2"
      ]
     },
     "execution_count": 6,
     "metadata": {},
     "output_type": "execute_result"
    }
   ],
   "source": [
    "data_stack.pop()"
   ]
  },
  {
   "cell_type": "code",
   "execution_count": 7,
   "id": "6228bd3b",
   "metadata": {},
   "outputs": [
    {
     "data": {
      "text/plain": [
       "[1]"
      ]
     },
     "execution_count": 7,
     "metadata": {},
     "output_type": "execute_result"
    }
   ],
   "source": [
    "data_stack"
   ]
  },
  {
   "cell_type": "markdown",
   "id": "b5bd0f4f",
   "metadata": {},
   "source": [
    "## push, pop 구현하기"
   ]
  },
  {
   "cell_type": "code",
   "execution_count": 16,
   "id": "e8d94bdb",
   "metadata": {},
   "outputs": [],
   "source": [
    "stack_list = list()\n",
    "\n",
    "def push(data):\n",
    "    stack_list.append(data)\n",
    "\n",
    "def pop():\n",
    "    data = stack_list[-1]\n",
    "    del stack_list[-1]\n",
    "    return data"
   ]
  },
  {
   "cell_type": "code",
   "execution_count": 17,
   "id": "78699f76",
   "metadata": {},
   "outputs": [],
   "source": [
    "for idx in range(10):\n",
    "    push(idx)"
   ]
  },
  {
   "cell_type": "code",
   "execution_count": 18,
   "id": "deacfab2",
   "metadata": {},
   "outputs": [
    {
     "data": {
      "text/plain": [
       "9"
      ]
     },
     "execution_count": 18,
     "metadata": {},
     "output_type": "execute_result"
    }
   ],
   "source": [
    "pop()"
   ]
  },
  {
   "cell_type": "markdown",
   "id": "d81df6c4",
   "metadata": {},
   "source": [
    "## 7. queue, stack 의 장단점"
   ]
  },
  {
   "cell_type": "markdown",
   "id": "5c8bd729",
   "metadata": {},
   "source": [
    "## Stack\n",
    "- 장점\n",
    "    - 구조가 단순하여 구현이 쉬움\n",
    "    - 데이터 저장/읽기 속도 빠름\n",
    "- 단점(일반적인 스택 구현시)\n",
    "     - 데이터 최대 갯수를 미리 정해야 함\n",
    "        - 파이썬의 경우 재귀함수는 1000번까지만 호출 가능\n",
    "    - 저장 공간의 낭비 가능성\n",
    "        - 미리 최대 갯수만큼 저장 공간 확보 필요\n",
    "    - 대표적인 활용\n",
    "        - 컴퓨터 내부의 프로세스 구조의 함수 동작 방식\n",
    "        - 재귀 함수의 경우에도 stack 방식으로 재귀 함수를 쌓아놓았다가, 마지막에 호출된 재귀 함수 부터 실행 된다.\n",
    "        \n",
    "## Queue\n",
    "- 장단점 보다는 멀티 태스킹을 위한 프로세스 스케쥴링 방식을 구현하기 위해 많이 사용됨"
   ]
  },
  {
   "cell_type": "markdown",
   "id": "9e74eddc",
   "metadata": {},
   "source": [
    "## 8. Linked List"
   ]
  },
  {
   "cell_type": "markdown",
   "id": "44a97b72",
   "metadata": {},
   "source": [
    "#### Node 구현"
   ]
  },
  {
   "cell_type": "code",
   "execution_count": 22,
   "id": "0c59d247",
   "metadata": {},
   "outputs": [],
   "source": [
    "class Node:\n",
    "    def __init__(self, data):\n",
    "        self.data = data\n",
    "        self.next = None"
   ]
  },
  {
   "cell_type": "code",
   "execution_count": 23,
   "id": "c4b9194f",
   "metadata": {},
   "outputs": [],
   "source": [
    "class Node:\n",
    "    def __init__(self, data, next=None):\n",
    "        self.data = data\n",
    "        self.next = next"
   ]
  },
  {
   "cell_type": "markdown",
   "id": "babf4191",
   "metadata": {},
   "source": [
    "#### Node와 Node 연결하기 (포인터 활용)"
   ]
  },
  {
   "cell_type": "code",
   "execution_count": 25,
   "id": "090db7c7",
   "metadata": {},
   "outputs": [],
   "source": [
    "node1 = Node(1)\n",
    "node2 = Node(2)\n",
    "node1.next = node2\n",
    "head = node1"
   ]
  },
  {
   "cell_type": "markdown",
   "id": "514eab31",
   "metadata": {},
   "source": [
    "#### 링크드 리스트로 데이터 추가하기"
   ]
  },
  {
   "cell_type": "code",
   "execution_count": 27,
   "id": "99e18ea7",
   "metadata": {},
   "outputs": [],
   "source": [
    "class Node:\n",
    "    def __init__(self, data, next=None):\n",
    "        self.data = data\n",
    "        self.next = next\n",
    "        \n",
    "def add(data):\n",
    "    node = head\n",
    "    while node.next:\n",
    "        node = node.next        \n",
    "    node.next = Node(data)"
   ]
  },
  {
   "cell_type": "code",
   "execution_count": 28,
   "id": "afda7208",
   "metadata": {},
   "outputs": [],
   "source": [
    "node1 = Node(1)\n",
    "head = node1\n",
    "for idx in range(2, 10):\n",
    "    add(idx)    "
   ]
  },
  {
   "cell_type": "markdown",
   "id": "15e5cd8e",
   "metadata": {},
   "source": [
    "#### 링크드 리스트 데이터 출력하기(검색하기)"
   ]
  },
  {
   "cell_type": "code",
   "execution_count": 29,
   "id": "fa2ffff6",
   "metadata": {},
   "outputs": [
    {
     "name": "stdout",
     "output_type": "stream",
     "text": [
      "1\n",
      "2\n",
      "3\n",
      "4\n",
      "5\n",
      "6\n",
      "7\n",
      "8\n",
      "9\n"
     ]
    }
   ],
   "source": [
    "node = head\n",
    "while node.next:\n",
    "    print(node.data)\n",
    "    node = node.next\n",
    "print(node.data)"
   ]
  },
  {
   "cell_type": "markdown",
   "id": "d4701892",
   "metadata": {},
   "source": [
    "#### node들 사이에 데이터 넣기"
   ]
  },
  {
   "cell_type": "code",
   "execution_count": 30,
   "id": "afdd5d1c",
   "metadata": {},
   "outputs": [],
   "source": [
    "node3 = Node(1.5)"
   ]
  },
  {
   "cell_type": "code",
   "execution_count": 31,
   "id": "ae057f68",
   "metadata": {},
   "outputs": [],
   "source": [
    "node = head\n",
    "search = True\n",
    "while search:\n",
    "    if node.data == 1:\n",
    "        search = False\n",
    "    else:\n",
    "        node = node.next\n",
    "        \n",
    "node_next = node.next\n",
    "node.next = node3\n",
    "node3.next = node_next"
   ]
  },
  {
   "cell_type": "code",
   "execution_count": 32,
   "id": "ee6c594e",
   "metadata": {},
   "outputs": [
    {
     "name": "stdout",
     "output_type": "stream",
     "text": [
      "1\n",
      "1.5\n",
      "2\n",
      "3\n",
      "4\n",
      "5\n",
      "6\n",
      "7\n",
      "8\n",
      "9\n"
     ]
    }
   ],
   "source": [
    "node = head\n",
    "while node.next:\n",
    "    print(node.data)\n",
    "    node = node.next\n",
    "print(node.data)"
   ]
  },
  {
   "cell_type": "markdown",
   "id": "85e72070",
   "metadata": {},
   "source": [
    "#### 파이썬 객체지향 프로그래밍으로 링크드 리스트 구현하기"
   ]
  },
  {
   "cell_type": "code",
   "execution_count": 40,
   "id": "fee62f3f",
   "metadata": {},
   "outputs": [],
   "source": [
    "class Node:\n",
    "    \n",
    "    def __init__(self, data, next=None):\n",
    "        self.data = data\n",
    "        self.next = next\n",
    "    \n",
    "    \n",
    "class NodeMgmt:\n",
    "    \n",
    "    def __init__(self, data):\n",
    "        self.head = Node(data)\n",
    "    \n",
    "    def add(self, data):\n",
    "        if self.head == \"\":\n",
    "            self.head = Node(data)\n",
    "        else:\n",
    "            node = self.head\n",
    "            while node.next:\n",
    "                node = node.next\n",
    "            node.next = Node(data)            \n",
    "\n",
    "    # 노드의 전체 데이터 출력\n",
    "    def desc(self):\n",
    "        node = self.head\n",
    "        while node:\n",
    "            print(node.data)\n",
    "            node = node.next\n",
    "            \n",
    "    def delete(self, data):\n",
    "        if self.head == \"\":\n",
    "            print(\"해당 값을 가진 노드가 없습니다.\")\n",
    "            return\n",
    "        \n",
    "        if self.head.data == data:\n",
    "            temp = self.head\n",
    "            self.head = self.head.next\n",
    "            del temp\n",
    "        else:\n",
    "            node = self.head\n",
    "            while node.next:\n",
    "                if node.next.data == data:\n",
    "                    temp = node.next\n",
    "                    node.next = node.next.next\n",
    "                    del temp\n",
    "                    return\n",
    "                else:\n",
    "                    node = node.next\n",
    "                    \n",
    "    # 특정한 값을 가진 노드 찾기\n",
    "    def search_node(self, data):\n",
    "        node = self.head\n",
    "        while node:\n",
    "            if node.data == data:\n",
    "                return node\n",
    "            else:\n",
    "                node = node.next"
   ]
  },
  {
   "cell_type": "markdown",
   "id": "ad6c08a4",
   "metadata": {},
   "source": [
    "#### 링크드 리스트 테스트"
   ]
  },
  {
   "cell_type": "code",
   "execution_count": 41,
   "id": "89379a88",
   "metadata": {},
   "outputs": [
    {
     "name": "stdout",
     "output_type": "stream",
     "text": [
      "0\n"
     ]
    }
   ],
   "source": [
    "linked_list1 = NodeMgmt(0)\n",
    "linked_list1.desc()"
   ]
  },
  {
   "cell_type": "code",
   "execution_count": 45,
   "id": "64e1e2b2",
   "metadata": {},
   "outputs": [],
   "source": [
    "linked_list1.head"
   ]
  },
  {
   "cell_type": "code",
   "execution_count": 44,
   "id": "cb304d3b",
   "metadata": {},
   "outputs": [],
   "source": [
    "linked_list1.delete(0)"
   ]
  },
  {
   "cell_type": "code",
   "execution_count": 46,
   "id": "2b2f9289",
   "metadata": {},
   "outputs": [
    {
     "name": "stdout",
     "output_type": "stream",
     "text": [
      "0\n"
     ]
    }
   ],
   "source": [
    "linked_list1 = NodeMgmt(0)\n",
    "linked_list1.desc()"
   ]
  },
  {
   "cell_type": "code",
   "execution_count": 47,
   "id": "813266e2",
   "metadata": {},
   "outputs": [
    {
     "name": "stdout",
     "output_type": "stream",
     "text": [
      "0\n",
      "1\n",
      "2\n",
      "3\n",
      "4\n",
      "5\n",
      "6\n",
      "7\n",
      "8\n",
      "9\n"
     ]
    }
   ],
   "source": [
    "for data in range(1, 10):\n",
    "    linked_list1.add(data)\n",
    "linked_list1.desc()"
   ]
  },
  {
   "cell_type": "code",
   "execution_count": 48,
   "id": "feb17f1c",
   "metadata": {},
   "outputs": [
    {
     "name": "stdout",
     "output_type": "stream",
     "text": [
      "0\n",
      "1\n",
      "2\n",
      "3\n",
      "5\n",
      "6\n",
      "7\n",
      "8\n",
      "9\n"
     ]
    }
   ],
   "source": [
    "linked_list1.delete(4)\n",
    "linked_list1.desc()"
   ]
  },
  {
   "cell_type": "code",
   "execution_count": 49,
   "id": "11efaf8c",
   "metadata": {},
   "outputs": [
    {
     "name": "stdout",
     "output_type": "stream",
     "text": [
      "0\n",
      "1\n",
      "2\n",
      "3\n",
      "5\n",
      "6\n",
      "7\n",
      "8\n"
     ]
    }
   ],
   "source": [
    "linked_list1.delete(9)\n",
    "linked_list1.desc()"
   ]
  },
  {
   "cell_type": "markdown",
   "id": "88656135",
   "metadata": {},
   "source": [
    "#### 더블 링크드 리스트"
   ]
  },
  {
   "cell_type": "code",
   "execution_count": 72,
   "id": "f667686d",
   "metadata": {},
   "outputs": [],
   "source": [
    "class Node:\n",
    "    def __init__(self, data, prev=None, next=None):\n",
    "        self.prev = prev\n",
    "        self.data = data\n",
    "        self.next = next\n",
    "        \n",
    "class NodeMgmt:\n",
    "    def __init__(self,data):\n",
    "        self.head = Node(data)\n",
    "        self.tail = self.head\n",
    "        \n",
    "    def insert(self, data):\n",
    "        if self.head == None:\n",
    "            self.Node(data)\n",
    "            self.tail = self.head\n",
    "        else:\n",
    "            node = self.head\n",
    "            while node.next:\n",
    "                node = node.next\n",
    "            new = Node(data)\n",
    "            node.next = new\n",
    "            new.prev = node\n",
    "            self.tail = new\n",
    "            \n",
    "    def desc(self):\n",
    "        node = self.head\n",
    "        while node:\n",
    "            print(node.data)\n",
    "            node = node.next\n",
    "            \n",
    "    def search_from_head(self, data):\n",
    "        if self.head == None:\n",
    "            return False\n",
    "        \n",
    "        node = self.head\n",
    "        while node:\n",
    "            if node.data == data:\n",
    "                return node\n",
    "            else:\n",
    "                node = node.next\n",
    "        return False\n",
    "    \n",
    "    def search_from_tail(self, data):\n",
    "        if self.head == None:\n",
    "            return False\n",
    "        \n",
    "        node = self.head\n",
    "        while node:\n",
    "            if node.data == data:\n",
    "                return node\n",
    "            else:\n",
    "                node = node.prev\n",
    "        return False\n",
    "    \n",
    "    # 특정 노드 앞에 데이터 넣기\n",
    "    def insert_before(self, data, before_data):\n",
    "        if self.head == None:\n",
    "            self.head = Node(data)\n",
    "            return True\n",
    "        else:\n",
    "            node = self.tail\n",
    "            while node.data != before_data:\n",
    "                node = node.prev\n",
    "                if node == None:\n",
    "                    return False\n",
    "            new = Node(data)\n",
    "            before_new = node.prev\n",
    "            before_new.next = new\n",
    "            new.next = node\n",
    "            new.prev = before_new\n",
    "            node.prev = new\n",
    "            return True\n",
    "            "
   ]
  },
  {
   "cell_type": "code",
   "execution_count": 73,
   "id": "e2c751de",
   "metadata": {},
   "outputs": [
    {
     "name": "stdout",
     "output_type": "stream",
     "text": [
      "0\n",
      "1\n",
      "2\n",
      "3\n",
      "4\n",
      "5\n",
      "6\n",
      "7\n",
      "8\n",
      "9\n"
     ]
    }
   ],
   "source": [
    "double_linked_list = NodeMgmt(0)\n",
    "for data in range(1, 10):\n",
    "    double_linked_list.insert(data)\n",
    "double_linked_list.desc()"
   ]
  },
  {
   "cell_type": "code",
   "execution_count": 76,
   "id": "2eae70e7",
   "metadata": {},
   "outputs": [
    {
     "name": "stdout",
     "output_type": "stream",
     "text": [
      "3\n"
     ]
    }
   ],
   "source": [
    "node3 = double_linked_list.search_from_head(3)\n",
    "if node3:\n",
    "    print(node3.data)\n",
    "else:\n",
    "    print(\"No data\")"
   ]
  },
  {
   "cell_type": "code",
   "execution_count": 75,
   "id": "50cb402c",
   "metadata": {},
   "outputs": [
    {
     "name": "stdout",
     "output_type": "stream",
     "text": [
      "0\n",
      "1\n",
      "1.5\n",
      "1.5\n",
      "2\n",
      "3\n",
      "4\n",
      "5\n",
      "6\n",
      "7\n",
      "8\n",
      "9\n"
     ]
    }
   ],
   "source": [
    "double_linked_list.insert_before(1.5, 2)\n",
    "double_linked_list.desc()"
   ]
  },
  {
   "cell_type": "markdown",
   "id": "89d2bb51",
   "metadata": {},
   "source": [
    "## 9. 시간 복잡도"
   ]
  },
  {
   "cell_type": "markdown",
   "id": "5e2f6af2",
   "metadata": {},
   "source": [
    "O(1) < O(logn) < O(n) < O(nlogn) < O(n^2) < O(2^n) < O(n!)"
   ]
  },
  {
   "cell_type": "code",
   "execution_count": 77,
   "id": "5864e774",
   "metadata": {},
   "outputs": [],
   "source": [
    "# 1부터 n까지의 합을 구하는 알고리즘의 시간 복잡도\n",
    "# n번 만큼 돌게 됨으로 O(n)\n",
    "def sum_all(n):\n",
    "    total = 0\n",
    "    for num in range(1, n + 1):\n",
    "        total += num\n",
    "    return total"
   ]
  },
  {
   "cell_type": "code",
   "execution_count": 79,
   "id": "8263e2db",
   "metadata": {},
   "outputs": [
    {
     "data": {
      "text/plain": [
       "5050"
      ]
     },
     "execution_count": 79,
     "metadata": {},
     "output_type": "execute_result"
    }
   ],
   "source": [
    "sum_all(100)"
   ]
  },
  {
   "cell_type": "code",
   "execution_count": 82,
   "id": "6a1e0c80",
   "metadata": {},
   "outputs": [],
   "source": [
    "# 1부터 n까지의 합을 구하는 다른 알고리즘의 시간 복잡도\n",
    "# 무조건 한 번(상수 번) 실행됨으로 O(1)\n",
    "def sum_all(n):\n",
    "    return int(n * (n + 1) / 2)"
   ]
  },
  {
   "cell_type": "code",
   "execution_count": 83,
   "id": "47a8a6e8",
   "metadata": {},
   "outputs": [
    {
     "data": {
      "text/plain": [
       "5050"
      ]
     },
     "execution_count": 83,
     "metadata": {},
     "output_type": "execute_result"
    }
   ],
   "source": [
    "sum_all(100)"
   ]
  },
  {
   "cell_type": "markdown",
   "id": "bd287261",
   "metadata": {},
   "source": [
    "## 10. Hash Table"
   ]
  },
  {
   "cell_type": "markdown",
   "id": "cb29cf49",
   "metadata": {},
   "source": [
    "#### 간단한 Hash Table 만들기"
   ]
  },
  {
   "cell_type": "code",
   "execution_count": 33,
   "id": "0019480b",
   "metadata": {},
   "outputs": [
    {
     "name": "stdout",
     "output_type": "stream",
     "text": [
      "[0, 1, 2, 3, 4, 5, 6, 7, 8, 9]\n",
      "<class 'list'>\n"
     ]
    }
   ],
   "source": [
    "hash_table = list([i for i in range(10)])\n",
    "print(hash_table)\n",
    "print(type(hash_table))"
   ]
  },
  {
   "cell_type": "code",
   "execution_count": 34,
   "id": "504bec4b",
   "metadata": {},
   "outputs": [
    {
     "name": "stdout",
     "output_type": "stream",
     "text": [
      "[0, 1, 2, 3, 4, 5, 6, 7, 8, 9]\n",
      "<class 'list'>\n"
     ]
    }
   ],
   "source": [
    "hash_table = [i for i in range(10)]\n",
    "print(hash_table)\n",
    "print(type(hash_table))"
   ]
  },
  {
   "cell_type": "markdown",
   "id": "13567e08",
   "metadata": {},
   "source": [
    "#### 초간단 해쉬 함수 만들기\n",
    "- 가장 간단한 방식은 Division 법(나누기를 통한 나머지 값을 사용하는 기법)"
   ]
  },
  {
   "cell_type": "code",
   "execution_count": 5,
   "id": "ba6b49e6",
   "metadata": {},
   "outputs": [],
   "source": [
    "def hash_func(key):\n",
    "    return key % 5"
   ]
  },
  {
   "cell_type": "markdown",
   "id": "729417e4",
   "metadata": {},
   "source": [
    "#### 해쉬테이블에 저장하기"
   ]
  },
  {
   "cell_type": "markdown",
   "id": "bbfcd4a6",
   "metadata": {},
   "source": [
    "- 데이터에 따라 필요시 key 생성 방법 정의가 필요함"
   ]
  },
  {
   "cell_type": "code",
   "execution_count": 9,
   "id": "4065af9d",
   "metadata": {},
   "outputs": [
    {
     "name": "stdout",
     "output_type": "stream",
     "text": [
      "65 68 84\n",
      "65 0\n"
     ]
    }
   ],
   "source": [
    "data1 = \"Andy\"\n",
    "data2 = \"Dave\"\n",
    "data3 = \"Trump\"\n",
    "\n",
    "# ord(): 문자의 ASCII(아스키)코드 리턴\n",
    "# 우측 하단의 hash_func를 통해 나온 값이 해쉬 주소가 됨\n",
    "print(ord(data1[0]), ord(data2[0]), ord(data3[0]))\n",
    "print(ord(data1[0]), hash_func(ord(data1[0])))"
   ]
  },
  {
   "cell_type": "code",
   "execution_count": 10,
   "id": "2a2a5a64",
   "metadata": {},
   "outputs": [],
   "source": [
    "def store_data(data, value):\n",
    "    key = ord(data[0])\n",
    "    hash_address = hash_func(key)\n",
    "    hash_table[hash_address] = value"
   ]
  },
  {
   "cell_type": "code",
   "execution_count": 11,
   "id": "d12dc061",
   "metadata": {},
   "outputs": [],
   "source": [
    "store_data(\"Andy\", \"0105111514816\")\n",
    "store_data(\"Dave\", \"010512551216\")\n",
    "store_data(\"Trump\", \"01004984798151\")\n"
   ]
  },
  {
   "cell_type": "code",
   "execution_count": 15,
   "id": "c70f9f56",
   "metadata": {},
   "outputs": [],
   "source": [
    "def get_data(data):\n",
    "    key = ord(data[0])\n",
    "    hash_address = hash_func(key)\n",
    "    return hash_table[hash_address]"
   ]
  },
  {
   "cell_type": "code",
   "execution_count": 17,
   "id": "d2f56c35",
   "metadata": {},
   "outputs": [
    {
     "data": {
      "text/plain": [
       "'0105111514816'"
      ]
     },
     "execution_count": 17,
     "metadata": {},
     "output_type": "execute_result"
    }
   ],
   "source": [
    "get_data(\"Ally\")"
   ]
  },
  {
   "cell_type": "markdown",
   "id": "48c3fb89",
   "metadata": {},
   "source": [
    "#### 해쉬 함수 연습"
   ]
  },
  {
   "cell_type": "code",
   "execution_count": 18,
   "id": "792bfd49",
   "metadata": {},
   "outputs": [
    {
     "data": {
      "text/plain": [
       "6828976459122451299"
      ]
     },
     "execution_count": 18,
     "metadata": {},
     "output_type": "execute_result"
    }
   ],
   "source": [
    "# 파이썬 라이브러리로 해쉬 키 생성\n",
    "hash(\"Dave\")"
   ]
  },
  {
   "cell_type": "code",
   "execution_count": 19,
   "id": "5b22cfd9",
   "metadata": {},
   "outputs": [],
   "source": [
    "hash_table = list([0 for i in range(8)])\n",
    "\n",
    "def get_key(data):\n",
    "    return hash(data)\n",
    "\n",
    "def hash_function(key):\n",
    "    return key % 8\n",
    "\n",
    "def save_data(data, value):\n",
    "    hash_address = hash_function(get_key(data))\n",
    "    hash_table[hash_address] = value\n",
    "    \n",
    "def read_data(data):\n",
    "    hash_address = hash_function(get_key(data))\n",
    "    return hash_table[hash_address]"
   ]
  },
  {
   "cell_type": "code",
   "execution_count": 20,
   "id": "01bd5310",
   "metadata": {},
   "outputs": [
    {
     "data": {
      "text/plain": [
       "'015644874635'"
      ]
     },
     "execution_count": 20,
     "metadata": {},
     "output_type": "execute_result"
    }
   ],
   "source": [
    "save_data(\"Dave\", \"015644874635\")\n",
    "save_data(\"Andy\", \"011252152\")\n",
    "read_data(\"Dave\")"
   ]
  },
  {
   "cell_type": "code",
   "execution_count": 21,
   "id": "013bb87f",
   "metadata": {},
   "outputs": [
    {
     "data": {
      "text/plain": [
       "[0, 0, 0, '015644874635', 0, 0, '011252152', 0]"
      ]
     },
     "execution_count": 21,
     "metadata": {},
     "output_type": "execute_result"
    }
   ],
   "source": [
    "hash_table"
   ]
  },
  {
   "cell_type": "markdown",
   "id": "870ced71",
   "metadata": {},
   "source": [
    "#### 해쉬 충돌(해쉬 주소값 중복) 해결 알고리즘"
   ]
  },
  {
   "cell_type": "markdown",
   "id": "60848f5d",
   "metadata": {},
   "source": [
    "-  chaining 기법\n",
    "    - 개방 해슁 : 해쉬 테이블 저장공간 외의 공간을 활용하는 기법\n",
    "    - 충돌이 일어날 경우 링크드 리스트를 사용하여 충돌이 일어난 주소값에 데이터를 추가로 뒤에 연결시켜 저장"
   ]
  },
  {
   "cell_type": "code",
   "execution_count": 53,
   "id": "e1106ca0",
   "metadata": {},
   "outputs": [],
   "source": [
    "hash_table = [0 for i in range(8)]\n",
    "\n",
    "def get_key(data):\n",
    "    return hash(data)\n",
    "\n",
    "def hash_function(key):\n",
    "    return key % 8\n",
    "\n",
    "def save_data(data, value):\n",
    "    # 동일 키 값에서 어떤 해쉬 값을 가지고 있는지 구분하기 위함\n",
    "    idx_key = get_key(data)\n",
    "    hash_address = hash_function(idx_key)\n",
    "    \n",
    "    # 데이터가 들어있는지 확인\n",
    "    # 링크드 리스트를 사용하지 않고 파이썬의 리스트로도 구현 가능(그러나 단순 리스트는 최대 크기가 지정이 되어있고, \n",
    "    # 충돌 수에 따라 동적으로 리스트 수를 만들 수 없다는 단점이 있음)\n",
    "    if hash_table[hash_address] != 0:\n",
    "        for idx in range(len(hash_table[hash_address])):\n",
    "            if hash_table[hash_address][idx][0] == idx_key:\n",
    "                hash_table[hash_address][idx][1] = value\n",
    "                return\n",
    "            hash_table[hash_address].append([idx_key, value])\n",
    "    else:\n",
    "        hash_table[hash_address] = [[idx_key, value]]\n",
    "    \n",
    "def read_data(data):\n",
    "    idx_key = get_key(data)\n",
    "    hash_address = hash_function(idx_key)\n",
    "    if hash_table[hash_address] != 0:\n",
    "        for idx in range(len(hash_table[hash_address])):\n",
    "            if hash_table[hash_address][idx][0] == idx_key:\n",
    "                return hash_table[hash_address][idx][1]\n",
    "        return None\n",
    "    \n",
    "    else:\n",
    "        return None\n",
    "    \n",
    "    return hash_table[hash_address]"
   ]
  },
  {
   "cell_type": "code",
   "execution_count": 54,
   "id": "decc9ce8",
   "metadata": {},
   "outputs": [
    {
     "name": "stdout",
     "output_type": "stream",
     "text": [
      "7\n",
      "7\n"
     ]
    }
   ],
   "source": [
    "print(hash(\"Dd\") % 8)\n",
    "print(hash(\"Data\") % 8)"
   ]
  },
  {
   "cell_type": "code",
   "execution_count": 55,
   "id": "8fc9e4f2",
   "metadata": {},
   "outputs": [
    {
     "data": {
      "text/plain": [
       "'Dave1'"
      ]
     },
     "execution_count": 55,
     "metadata": {},
     "output_type": "execute_result"
    }
   ],
   "source": [
    "save_data(\"Dd\", \"Dave1\")\n",
    "save_data(\"Data\", \"Dave3\")\n",
    "read_data(\"Dd\")"
   ]
  },
  {
   "cell_type": "code",
   "execution_count": 56,
   "id": "08b35d56",
   "metadata": {},
   "outputs": [
    {
     "data": {
      "text/plain": [
       "[0,\n",
       " 0,\n",
       " 0,\n",
       " 0,\n",
       " 0,\n",
       " 0,\n",
       " 0,\n",
       " [[9106254936569821975, 'Dave1'], [1928565448814304871, 'Dave3']]]"
      ]
     },
     "execution_count": 56,
     "metadata": {},
     "output_type": "execute_result"
    }
   ],
   "source": [
    "hash_table"
   ]
  },
  {
   "cell_type": "markdown",
   "id": "d9ff28c2",
   "metadata": {},
   "source": [
    "-  Linear Probing 기법\n",
    "    - 폐쇄 해슁 : 해쉬 테이블 저장공간 안에서 충돌 문제를 해결하는 기법\n",
    "    - 충돌이 일어날 경우 해당 hash address의 다음 address 부터 맨 처음 나오는 빈공간에 저장하는 기법\n",
    "        - 저장공간 활용도를 높이기 위한 기법"
   ]
  },
  {
   "cell_type": "code",
   "execution_count": null,
   "id": "8e452690",
   "metadata": {},
   "outputs": [],
   "source": [
    "hash_table = [0 for i in range(8)]\n",
    "\n",
    "def get_key(data):\n",
    "    return hash(data)\n",
    "\n",
    "def hash_function(key):\n",
    "    return key % 8\n",
    "\n",
    "def save_data(data, value):\n",
    "    # 동일 키 값에서 어떤 해쉬 값을 가지고 있는지 구분하기 위함\n",
    "    idx_key = get_key(data)\n",
    "    hash_address = hash_function(idx_key)\n",
    "    \n",
    "    if hash_table[hash_address] != 0:\n",
    "         # hash address의 다음 address 부터 맨 처음 나오는 빈공간에 저장하도록 하기\n",
    "        for idx in range(hash_address, len(hash_table)):\n",
    "            if hash_table[idx] == 0:\n",
    "                hash_table[idx] = [idx_key, value]\n",
    "                return\n",
    "            # 키가 동일한 값이 이미 해쉬 테이블에 있을 경우 기존 값 변경\n",
    "            elif hash_table[idx][0] == idx_key:\n",
    "                hash_table[idx][1] = value\n",
    "                return\n",
    "    else:\n",
    "        hash_table[hash_address] = [idx_key, value]\n",
    "        \n",
    "def read_data(data):\n",
    "    idx_key = get_key(data)\n",
    "    hash_address = hash_function(idx_key)\n",
    "    if hash_table[hash_address] != 0:\n",
    "        for idx in range(hash_address, len(hash_table)):\n",
    "            # 빈 슬롯이 나타났다는 것은 해당 키 값이 저장되지 않았음을 의미\n",
    "            if hash_table[idx] == 0:\n",
    "                return None\n",
    "                \n",
    "            elif hash_table[idx][0] == idx_key:\n",
    "                return hash_table[idx][1]\n",
    "        \n",
    "    else:\n",
    "        return None"
   ]
  },
  {
   "cell_type": "code",
   "execution_count": 58,
   "id": "b5683152",
   "metadata": {},
   "outputs": [
    {
     "name": "stdout",
     "output_type": "stream",
     "text": [
      "7\n",
      "7\n"
     ]
    }
   ],
   "source": [
    "print(hash(\"Dd\") % 8)\n",
    "print(hash(\"Data\") % 8)"
   ]
  },
  {
   "cell_type": "code",
   "execution_count": 61,
   "id": "1b037998",
   "metadata": {},
   "outputs": [
    {
     "data": {
      "text/plain": [
       "'gazua'"
      ]
     },
     "execution_count": 61,
     "metadata": {},
     "output_type": "execute_result"
    }
   ],
   "source": [
    "save_data(\"Dd\", \"gazua\")\n",
    "save_data(\"Da\", \"gazua123\")\n",
    "read_data(\"Dd\")"
   ]
  },
  {
   "cell_type": "markdown",
   "id": "a44b5373",
   "metadata": {},
   "source": [
    "#### 빈번한 충돌을 개선하는 기법\n",
    "- 해쉬 함수를 재정의 및 해쉬 테이블 저장 공간 확대"
   ]
  },
  {
   "cell_type": "markdown",
   "id": "4c92cac9",
   "metadata": {},
   "source": [
    "#### 참고 : 해쉬 함수와 키 생성 함수\n",
    "- 파이썬의 hash()함수는 실행할 때 마다 값이 달라질 수 있음\n",
    "- 유명한 해쉬 함수 : SHA(Secure Hash Algorithm, 안전한 해시 알고리즘)\n",
    "    - 어떤 데이터도 유일한 고정된 크기의 고정값을 리턴해줌으로, 해쉬 함수로 유용하게 활용 가능"
   ]
  },
  {
   "cell_type": "markdown",
   "id": "f0edd670",
   "metadata": {},
   "source": [
    "#### SHA-1"
   ]
  },
  {
   "cell_type": "code",
   "execution_count": 67,
   "id": "a4ee2bf6",
   "metadata": {},
   "outputs": [
    {
     "name": "stdout",
     "output_type": "stream",
     "text": [
      "a94a8fe5ccb19ba61c4c0873d391e987982fbbd3\n"
     ]
    }
   ],
   "source": [
    "import hashlib\n",
    "\n",
    "# \"test\".encode() 는 b\"test\"와 동일\n",
    "data = \"test\".encode()\n",
    "hash_object = hashlib.sha1()\n",
    "hash_object.update(data)\n",
    "# 16 진수로 변환\n",
    "hex_dig = hash_object.hexdigest()\n",
    "print(hex_dig)"
   ]
  },
  {
   "cell_type": "markdown",
   "id": "20201fed",
   "metadata": {},
   "source": [
    "#### SHA-256"
   ]
  },
  {
   "cell_type": "code",
   "execution_count": 68,
   "id": "18a673ce",
   "metadata": {},
   "outputs": [
    {
     "name": "stdout",
     "output_type": "stream",
     "text": [
      "9f86d081884c7d659a2feaa0c55ad015a3bf4f1b2b0b822cd15d6c15b0f00a08\n"
     ]
    }
   ],
   "source": [
    "import hashlib\n",
    "\n",
    "# \"test\".encode() 는 b\"test\"와 동일\n",
    "data = \"test\".encode()\n",
    "hash_object = hashlib.sha256()\n",
    "hash_object.update(data)\n",
    "# 16 진수로 변환\n",
    "hex_dig = hash_object.hexdigest()\n",
    "print(hex_dig)"
   ]
  },
  {
   "cell_type": "markdown",
   "id": "20879cfc",
   "metadata": {},
   "source": [
    "#### chaining 기법을 적용한 해쉬 테이블 코드에 키 생성 함수를 sha256 해쉬 알고리즘을 사용하도록 변경해보기"
   ]
  },
  {
   "cell_type": "code",
   "execution_count": 72,
   "id": "e96db0ca",
   "metadata": {},
   "outputs": [],
   "source": [
    "import hashlib\n",
    "\n",
    "hash_table = [0 for i in range(8)]\n",
    "\n",
    "def get_key(data):\n",
    "    hash_object = hashlib.sha256()\n",
    "    hash_object.update(data.encode())\n",
    "    hex_dig = hash_object.hexdigest()\n",
    "    # hex_dig의 문자열을 16진수의 int로 변환\n",
    "    return int(hex_dig, 16)\n",
    "\n",
    "def hash_function(key):\n",
    "    return key % 8\n",
    "\n",
    "def save_data(data, value):\n",
    "    # 동일 키 값에서 어떤 해쉬 값을 가지고 있는지 구분하기 위함\n",
    "    idx_key = get_key(data)\n",
    "    hash_address = hash_function(idx_key)\n",
    "    \n",
    "    # 데이터가 들어있는지 확인\n",
    "    # 링크드 리스트를 사용하지 않고 파이썬의 리스트로도 구현 가능(그러나 단순 리스트는 최대 크기가 지정이 되어있고, \n",
    "    # 충돌 수에 따라 동적으로 리스트 수를 만들 수 없다는 단점이 있음)\n",
    "    if hash_table[hash_address] != 0:\n",
    "        for idx in range(len(hash_table[hash_address])):\n",
    "            if hash_table[hash_address][idx][0] == idx_key:\n",
    "                hash_table[hash_address][idx][1] = value\n",
    "                return\n",
    "            hash_table[hash_address].append([idx_key, value])\n",
    "    else:\n",
    "        hash_table[hash_address] = [[idx_key, value]]\n",
    "    \n",
    "def read_data(data):\n",
    "    idx_key = get_key(data)\n",
    "    hash_address = hash_function(idx_key)\n",
    "    if hash_table[hash_address] != 0:\n",
    "        for idx in range(len(hash_table[hash_address])):\n",
    "            if hash_table[hash_address][idx][0] == idx_key:\n",
    "                return hash_table[hash_address][idx][1]\n",
    "        return None\n",
    "    \n",
    "    else:\n",
    "        return None\n",
    "    \n",
    "    return hash_table[hash_address]"
   ]
  },
  {
   "cell_type": "code",
   "execution_count": 73,
   "id": "d7d7bef8",
   "metadata": {},
   "outputs": [
    {
     "name": "stdout",
     "output_type": "stream",
     "text": [
      "1\n",
      "2\n",
      "2\n"
     ]
    }
   ],
   "source": [
    "print(get_key('db')%8)\n",
    "print(get_key('da')%8)\n",
    "print(get_key('dh')%8)"
   ]
  },
  {
   "cell_type": "markdown",
   "id": "68be4840",
   "metadata": {},
   "source": [
    "#### hash의 시간 복잡도\n",
    "- 일반적인 경우(collision이 없는 경우)는 O(1)\n",
    "- 최악의 경우(collision이 매번 발생한는 경우)는 O(n)\n",
    "- 해쉬 테이블의 경우, 일반적인 경우를 기대하고 만들기 때문에, 시간 복잡도는 O(1)이라고 말할 수 있음\n",
    "- 16개의 배열에 데이터를 저장하고 검색하면 O(n), 16개의 데이터 저장 공간을 가진 해쉬 테이블에 데이터를 저장하고 검색하면 O(1)\n",
    "    - 해쉬 테이블이 배열보다 효율적임\n"
   ]
  },
  {
   "cell_type": "markdown",
   "id": "ffa87517",
   "metadata": {},
   "source": [
    "## 11. Tree"
   ]
  },
  {
   "cell_type": "code",
   "execution_count": 3,
   "id": "a2ca101e",
   "metadata": {},
   "outputs": [],
   "source": [
    "# 노드 클래스 만들기\n",
    "class Node:\n",
    "    def __init__(self, value):\n",
    "        self.value = value\n",
    "        self.left = None\n",
    "        self.right = None"
   ]
  },
  {
   "cell_type": "code",
   "execution_count": 11,
   "id": "14a92631",
   "metadata": {},
   "outputs": [],
   "source": [
    "# 이진 탐색 트리에 데이터 넣기\n",
    "class NodeMgmt:\n",
    "    def __init__(self, head):\n",
    "        self.head = head\n",
    "        \n",
    "    def insert(self, value):\n",
    "        self.current_node = self.head\n",
    "        while True:\n",
    "            if value < self.current_node.value:\n",
    "                if self.current_node.left:\n",
    "                    self.current_node = self.current_node.left\n",
    "                else:\n",
    "                    self.current_node.left = Node(value)\n",
    "                    break\n",
    "            else:\n",
    "                if self.current_node.right != None:\n",
    "                    self.current_node = self.current_node.right\n",
    "                else:\n",
    "                    self.current_node.right = Node(value)\n",
    "                    break\n",
    "                    \n",
    "    def search(self, value):\n",
    "        self.currnet_node = self.head\n",
    "        while self.current_node:\n",
    "            if self.current_node.value == value:\n",
    "                return True\n",
    "            elif value < self.current_node.value:\n",
    "                self.current_node = self.current_node.left\n",
    "            else:\n",
    "                self.current_node = self.current_node.right\n",
    "        return False"
   ]
  },
  {
   "cell_type": "code",
   "execution_count": 12,
   "id": "51b5d90a",
   "metadata": {},
   "outputs": [],
   "source": [
    "head = Node(1)\n",
    "BST = NodeMgmt(head)\n",
    "BST.insert(2)\n",
    "BST.insert(3)\n",
    "BST.insert(0)\n",
    "BST.insert(4)\n",
    "BST.insert(8)"
   ]
  },
  {
   "cell_type": "code",
   "execution_count": 14,
   "id": "50bbe440",
   "metadata": {},
   "outputs": [
    {
     "data": {
      "text/plain": [
       "False"
      ]
     },
     "execution_count": 14,
     "metadata": {},
     "output_type": "execute_result"
    }
   ],
   "source": [
    "BST.search(10)"
   ]
  },
  {
   "cell_type": "markdown",
   "id": "98bb239d",
   "metadata": {},
   "source": [
    "#### 이진 탐색 트리 삭제\n",
    "- 매우 복잡하여 경우를 나눠 생각하는 것이 좋음\n",
    "\n",
    "- leaf node 일 때(하위 노드가 없을 때)\n",
    "    = 삭제할 Node의 Parent Node가 삭제할 Node를 가리키지 않도록 한다.\n",
    "\n",
    "- 하위 노드가 한개 일 때\n",
    "    - 삭제할 Node의 Parent Node가 삭제할 Node의 Child Node를 가리키도록 한다.\n",
    "\n",
    "- 하위 노드가 두개 일 때\n",
    "    - 아래 두 방법 중 하나를 사용하면 됨\n",
    "        1. 삭제할 Node의 오른쪽 자식 중, 가장 작은 값을 삭제할 Node의 Parent Node가 가리키도록 한다.\n",
    "        2. 삭제할 Node의 왼쪽 자식 중, 가장 큰 값을 삭제할 Node의 Parent Node가 가리키도록 한다.\n",
    "\n",
    "##### 1,  삭제할 Node의 오른쪽 자식 중, 가장 작은 값을 삭제할 Node의 Parent Node가 가리키게 할 경우\n",
    "    - 삭제할 Node의 오른쪽 자식 선택\n",
    "    - 오른쪽 자식의 가장 왼쪽에 있는 Node를 선택\n",
    "    - 해당 Node를 삭제할 Node의 Parent Node의 왼쪽 Branch가 가리키게 함\n",
    "    - 해당 Node의 왼쪽 Branch가 삭제할 Node의 왼쪽 Child Node를 가리키게 함\n",
    "    - 해당 Node의 오른쪽 Brach가 삭제할 Node의 오른쪽 Child Node를 가리키게 함\n",
    "    - 만약 해당 Node가 오른쪽 Child Node를 가지고 있었을 경우에는, 해당 Node의 본래 Parent Node의 왼쪽 Branch가 해당 오른쪽 Child Node를 가리키게함"
   ]
  },
  {
   "cell_type": "markdown",
   "id": "fe45da23",
   "metadata": {},
   "source": [
    "#### 1.1 삭제할 Node 탐색\n",
    "    - 삭제할 Node가 없는 경우도 처리해야 함\n",
    "        - 이를 위해 삭제할 Node가 없는 경우는 False를 리턴하고, 함수를 종료시킴"
   ]
  },
  {
   "cell_type": "code",
   "execution_count": null,
   "id": "601ef6b9",
   "metadata": {},
   "outputs": [],
   "source": [
    "# def delete(self, value):\n",
    "    # 모든 노드를 순회하며 검색\n",
    "    searched = False\n",
    "    # current_node는 삭제할 node를 지칭\n",
    "    self.current_node = self.head\n",
    "    # parent node는 삭제할 node의 부모 node를 지칭\n",
    "    self.parent = self.head\n",
    "    \n",
    "    while self.current_node:\n",
    "        if self.current_node.value == value:\n",
    "            searched = True\n",
    "            break\n",
    "        elif value < self.current_node.value:\n",
    "            self.parent = self.current_node\n",
    "            self.current_node = self.current_node.left\n",
    "        else:\n",
    "            self.parent = self.current_node\n",
    "            self.current_node = self.current_node.right\n",
    "    \n",
    "    # 삭제할 노드가 없을 경우\n",
    "    if searched == False:\n",
    "        return False\n",
    "            "
   ]
  }
 ],
 "metadata": {
  "kernelspec": {
   "display_name": "Python 3 (ipykernel)",
   "language": "python",
   "name": "python3"
  },
  "language_info": {
   "codemirror_mode": {
    "name": "ipython",
    "version": 3
   },
   "file_extension": ".py",
   "mimetype": "text/x-python",
   "name": "python",
   "nbconvert_exporter": "python",
   "pygments_lexer": "ipython3",
   "version": "3.9.7"
  }
 },
 "nbformat": 4,
 "nbformat_minor": 5
}
