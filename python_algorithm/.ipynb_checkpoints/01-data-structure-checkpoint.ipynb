{
 "cells": [
  {
   "cell_type": "markdown",
   "id": "5505baa6",
   "metadata": {},
   "source": [
    "### 배열(Array)"
   ]
  },
  {
   "cell_type": "markdown",
   "id": "14f99018",
   "metadata": {},
   "source": [
    "- 데이터를 나열하고, 각 데이터를 인덱스에 대응하도록 구성한 데이터 구조\n",
    "- 파이썬에서는 리스트 타입이 배열 기능을 제공하고 있음"
   ]
  },
  {
   "cell_type": "markdown",
   "id": "65ae0f18",
   "metadata": {},
   "source": [
    "## 1. 배열이 필요한 이유\n",
    "\n",
    "- 같은 종류의 데이터를 효율적으로 관리하기 위해 사용\n",
    "- 같은 종류의 데이터를 순차적으로 저장"
   ]
  },
  {
   "cell_type": "markdown",
   "id": "ffa412ce",
   "metadata": {},
   "source": [
    "- 배열의 장점:\n",
    "    - 빠른 접근 가능\n",
    "- 배열의 단점:\n",
    "    - 추가/삭제가 쉽지 않음\n",
    "    - 미리 최대 길이를 지정해야 함"
   ]
  },
  {
   "cell_type": "markdown",
   "id": "b372407a",
   "metadata": {},
   "source": [
    "## 2. 파이썬과 C언어의 배열 예제"
   ]
  },
  {
   "cell_type": "code",
   "execution_count": null,
   "id": "b203c9b0",
   "metadata": {},
   "outputs": [],
   "source": [
    "# c 언어\n",
    "\n",
    "int main(int argc, char * argv[])\n",
    "{\n",
    "    char country[3] = \"US\"\n",
    "    printf(\"%c%c\\n\", country[0], country[1]);\n",
    "    printf(\"%s\\n\", country);\n",
    "    return 0;    \n",
    "}"
   ]
  },
  {
   "cell_type": "code",
   "execution_count": 2,
   "id": "7a8fd879",
   "metadata": {},
   "outputs": [
    {
     "name": "stdout",
     "output_type": "stream",
     "text": [
      "US\n",
      "USA\n"
     ]
    }
   ],
   "source": [
    "country = 'US'\n",
    "print(country)\n",
    "\n",
    "country = country + 'A'\n",
    "print(country)"
   ]
  },
  {
   "cell_type": "markdown",
   "id": "fb2b6731",
   "metadata": {},
   "source": [
    "## 3. 파이썬과 배열\n",
    "- 파이썬 리스트 활용"
   ]
  },
  {
   "cell_type": "code",
   "execution_count": 3,
   "id": "ce4485d5",
   "metadata": {},
   "outputs": [
    {
     "name": "stdout",
     "output_type": "stream",
     "text": [
      "[1, 2, 3, 4, 5]\n"
     ]
    }
   ],
   "source": [
    "# 1차원 배열: 리스트로 구현시\n",
    "data = [1, 2, 3, 4, 5]\n",
    "print(data)"
   ]
  },
  {
   "cell_type": "code",
   "execution_count": 5,
   "id": "252eaaa9",
   "metadata": {},
   "outputs": [
    {
     "data": {
      "text/plain": [
       "[[1, 2, 3], [4, 5, 6], [7, 8, 9]]"
      ]
     },
     "execution_count": 5,
     "metadata": {},
     "output_type": "execute_result"
    }
   ],
   "source": [
    "# 2차원 배열 리스트로 구현시\n",
    "data = [[1, 2, 3], [4, 5, 6], [7, 8, 9]]\n",
    "data"
   ]
  },
  {
   "cell_type": "code",
   "execution_count": 6,
   "id": "a2d6f6a7",
   "metadata": {},
   "outputs": [
    {
     "name": "stdout",
     "output_type": "stream",
     "text": [
      "[1, 2, 3]\n"
     ]
    }
   ],
   "source": [
    "print(data[0])"
   ]
  },
  {
   "cell_type": "code",
   "execution_count": 7,
   "id": "cb65d398",
   "metadata": {},
   "outputs": [
    {
     "name": "stdout",
     "output_type": "stream",
     "text": [
      "1\n",
      "4\n"
     ]
    }
   ],
   "source": [
    "print(data[0][0])\n",
    "print(data[1][0])"
   ]
  },
  {
   "cell_type": "markdown",
   "id": "5358003b",
   "metadata": {},
   "source": [
    "## 4. 프로그래밍 연습"
   ]
  },
  {
   "cell_type": "markdown",
   "id": "01daabe7",
   "metadata": {},
   "source": [
    "#### 연습 1. 이름들이 들어있는 리스트에서 M이 총 몇번 나오는지 카운팅하기"
   ]
  },
  {
   "cell_type": "code",
   "execution_count": null,
   "id": "588ca3fb",
   "metadata": {},
   "outputs": [],
   "source": [
    "m_count = 0\n",
    "for data in dataset:\n",
    "    for idx in range(len(data)):\n",
    "        if data[idx] == 'M':\n",
    "            m_count += 1\n",
    "print(m_count)"
   ]
  },
  {
   "cell_type": "markdown",
   "id": "626e4df9",
   "metadata": {},
   "source": [
    "## 5. Queue library 사용 및 구현"
   ]
  },
  {
   "cell_type": "markdown",
   "id": "03ae85c5",
   "metadata": {},
   "source": [
    "#### 일반적인 queue library"
   ]
  },
  {
   "cell_type": "code",
   "execution_count": 10,
   "id": "26d42800",
   "metadata": {},
   "outputs": [],
   "source": [
    "import queue\n",
    "\n",
    "data_queue = queue.Queue()"
   ]
  },
  {
   "cell_type": "code",
   "execution_count": 11,
   "id": "18fe2b7b",
   "metadata": {},
   "outputs": [],
   "source": [
    "data_queue.put(\"funcoding\")\n",
    "data_queue.put(1)"
   ]
  },
  {
   "cell_type": "code",
   "execution_count": 12,
   "id": "bf194ef8",
   "metadata": {},
   "outputs": [
    {
     "data": {
      "text/plain": [
       "2"
      ]
     },
     "execution_count": 12,
     "metadata": {},
     "output_type": "execute_result"
    }
   ],
   "source": [
    "data_queue.qsize()"
   ]
  },
  {
   "cell_type": "code",
   "execution_count": 13,
   "id": "2a0791ec",
   "metadata": {},
   "outputs": [
    {
     "data": {
      "text/plain": [
       "'funcoding'"
      ]
     },
     "execution_count": 13,
     "metadata": {},
     "output_type": "execute_result"
    }
   ],
   "source": [
    "data_queue.get()"
   ]
  },
  {
   "cell_type": "code",
   "execution_count": 14,
   "id": "01770a68",
   "metadata": {},
   "outputs": [
    {
     "data": {
      "text/plain": [
       "1"
      ]
     },
     "execution_count": 14,
     "metadata": {},
     "output_type": "execute_result"
    }
   ],
   "source": [
    "data_queue.qsize()"
   ]
  },
  {
   "cell_type": "code",
   "execution_count": 15,
   "id": "cce77e4c",
   "metadata": {},
   "outputs": [
    {
     "data": {
      "text/plain": [
       "1"
      ]
     },
     "execution_count": 15,
     "metadata": {},
     "output_type": "execute_result"
    }
   ],
   "source": [
    "data_queue.get()"
   ]
  },
  {
   "cell_type": "markdown",
   "id": "dc39646e",
   "metadata": {},
   "source": [
    "#### lifo queue library"
   ]
  },
  {
   "cell_type": "code",
   "execution_count": 17,
   "id": "d7426b7c",
   "metadata": {},
   "outputs": [],
   "source": [
    "import queue\n",
    "data_queue = queue.LifoQueue()"
   ]
  },
  {
   "cell_type": "code",
   "execution_count": 19,
   "id": "529936e3",
   "metadata": {},
   "outputs": [],
   "source": [
    "data_queue.put(\"funcoding\")\n",
    "data_queue.put(1)"
   ]
  },
  {
   "cell_type": "code",
   "execution_count": 20,
   "id": "18863e70",
   "metadata": {},
   "outputs": [
    {
     "data": {
      "text/plain": [
       "2"
      ]
     },
     "execution_count": 20,
     "metadata": {},
     "output_type": "execute_result"
    }
   ],
   "source": [
    "data_queue.qsize()"
   ]
  },
  {
   "cell_type": "code",
   "execution_count": 21,
   "id": "4c14365f",
   "metadata": {},
   "outputs": [
    {
     "data": {
      "text/plain": [
       "1"
      ]
     },
     "execution_count": 21,
     "metadata": {},
     "output_type": "execute_result"
    }
   ],
   "source": [
    "data_queue.get()"
   ]
  },
  {
   "cell_type": "markdown",
   "id": "e09228c8",
   "metadata": {},
   "source": [
    "#### priority queue library"
   ]
  },
  {
   "cell_type": "code",
   "execution_count": 23,
   "id": "83f2b016",
   "metadata": {},
   "outputs": [],
   "source": [
    "import queue\n",
    "\n",
    "data_queue = queue.PriorityQueue()"
   ]
  },
  {
   "cell_type": "code",
   "execution_count": 24,
   "id": "6183165b",
   "metadata": {},
   "outputs": [],
   "source": [
    "data_queue.put((10, \"Korea\"))\n",
    "data_queue.put((12, \"USA\"))\n",
    "data_queue.put((5, 1))"
   ]
  },
  {
   "cell_type": "code",
   "execution_count": 25,
   "id": "2babca24",
   "metadata": {},
   "outputs": [
    {
     "data": {
      "text/plain": [
       "3"
      ]
     },
     "execution_count": 25,
     "metadata": {},
     "output_type": "execute_result"
    }
   ],
   "source": [
    "data_queue.qsize()"
   ]
  },
  {
   "cell_type": "code",
   "execution_count": 26,
   "id": "25fd2dd8",
   "metadata": {},
   "outputs": [
    {
     "data": {
      "text/plain": [
       "(5, 1)"
      ]
     },
     "execution_count": 26,
     "metadata": {},
     "output_type": "execute_result"
    }
   ],
   "source": [
    "data_queue.get()"
   ]
  },
  {
   "cell_type": "markdown",
   "id": "483be428",
   "metadata": {},
   "source": [
    "#### enque, dequeue 구현하기"
   ]
  },
  {
   "cell_type": "code",
   "execution_count": 28,
   "id": "47b90c9c",
   "metadata": {},
   "outputs": [],
   "source": [
    "queue_list = list()\n",
    "\n",
    "def enqueue(data):\n",
    "    queue_list.append(data)\n",
    "    \n",
    "def dequeue():\n",
    "    data = queue_list[0]\n",
    "    del queue_list[0]\n",
    "    return data"
   ]
  },
  {
   "cell_type": "code",
   "execution_count": 29,
   "id": "34c22c66",
   "metadata": {},
   "outputs": [],
   "source": [
    "for idx in range(10):\n",
    "    enqueue(idx)"
   ]
  },
  {
   "cell_type": "code",
   "execution_count": 30,
   "id": "b01c4487",
   "metadata": {},
   "outputs": [
    {
     "data": {
      "text/plain": [
       "10"
      ]
     },
     "execution_count": 30,
     "metadata": {},
     "output_type": "execute_result"
    }
   ],
   "source": [
    "len(queue_list)"
   ]
  },
  {
   "cell_type": "code",
   "execution_count": 33,
   "id": "6ee8387c",
   "metadata": {},
   "outputs": [
    {
     "data": {
      "text/plain": [
       "2"
      ]
     },
     "execution_count": 33,
     "metadata": {},
     "output_type": "execute_result"
    }
   ],
   "source": [
    "dequeue()"
   ]
  },
  {
   "cell_type": "markdown",
   "id": "dab9bbad",
   "metadata": {},
   "source": [
    "## 6. Stack library 사용 및 구현"
   ]
  },
  {
   "cell_type": "code",
   "execution_count": 1,
   "id": "7b5a0287",
   "metadata": {},
   "outputs": [],
   "source": [
    "# 재귀 함수\n",
    "def recursive(data):\n",
    "    if data < 0:\n",
    "        print(\"ended\")\n",
    "    else:\n",
    "        print(data)\n",
    "        recursive(data - 1)\n",
    "        print(\"returned\", data)"
   ]
  },
  {
   "cell_type": "code",
   "execution_count": 3,
   "id": "af85d148",
   "metadata": {},
   "outputs": [
    {
     "name": "stdout",
     "output_type": "stream",
     "text": [
      "4\n",
      "3\n",
      "2\n",
      "1\n",
      "0\n",
      "ended\n",
      "returned 0\n",
      "returned 1\n",
      "returned 2\n",
      "returned 3\n",
      "returned 4\n"
     ]
    }
   ],
   "source": [
    "recursive(4)"
   ]
  },
  {
   "cell_type": "code",
   "execution_count": 4,
   "id": "3a7160ba",
   "metadata": {},
   "outputs": [],
   "source": [
    "data_stack = list()\n",
    "\n",
    "data_stack.append(1)\n",
    "data_stack.append(2)"
   ]
  },
  {
   "cell_type": "code",
   "execution_count": 5,
   "id": "f017e1fc",
   "metadata": {},
   "outputs": [
    {
     "data": {
      "text/plain": [
       "[1, 2]"
      ]
     },
     "execution_count": 5,
     "metadata": {},
     "output_type": "execute_result"
    }
   ],
   "source": [
    "data_stack"
   ]
  },
  {
   "cell_type": "code",
   "execution_count": 6,
   "id": "8ab01be6",
   "metadata": {},
   "outputs": [
    {
     "data": {
      "text/plain": [
       "2"
      ]
     },
     "execution_count": 6,
     "metadata": {},
     "output_type": "execute_result"
    }
   ],
   "source": [
    "data_stack.pop()"
   ]
  },
  {
   "cell_type": "code",
   "execution_count": 7,
   "id": "9e40fc6a",
   "metadata": {},
   "outputs": [
    {
     "data": {
      "text/plain": [
       "[1]"
      ]
     },
     "execution_count": 7,
     "metadata": {},
     "output_type": "execute_result"
    }
   ],
   "source": [
    "data_stack"
   ]
  },
  {
   "cell_type": "markdown",
   "id": "8de93664",
   "metadata": {},
   "source": [
    "## push, pop 구현하기"
   ]
  },
  {
   "cell_type": "code",
   "execution_count": 16,
   "id": "cb3c2cb7",
   "metadata": {},
   "outputs": [],
   "source": [
    "stack_list = list()\n",
    "\n",
    "def push(data):\n",
    "    stack_list.append(data)\n",
    "\n",
    "def pop():\n",
    "    data = stack_list[-1]\n",
    "    del stack_list[-1]\n",
    "    return data"
   ]
  },
  {
   "cell_type": "code",
   "execution_count": 17,
   "id": "19372a4d",
   "metadata": {},
   "outputs": [],
   "source": [
    "for idx in range(10):\n",
    "    push(idx)"
   ]
  },
  {
   "cell_type": "code",
   "execution_count": 18,
   "id": "2adc67ab",
   "metadata": {},
   "outputs": [
    {
     "data": {
      "text/plain": [
       "9"
      ]
     },
     "execution_count": 18,
     "metadata": {},
     "output_type": "execute_result"
    }
   ],
   "source": [
    "pop()"
   ]
  },
  {
   "cell_type": "markdown",
   "id": "90931dd6",
   "metadata": {},
   "source": [
    "## 7. queue, stack 의 장단점"
   ]
  },
  {
   "cell_type": "markdown",
   "id": "7e75740c",
   "metadata": {},
   "source": [
    "## Stack\n",
    "- 장점\n",
    "    - 구조가 단순하여 구현이 쉬움\n",
    "    - 데이터 저장/읽기 속도 빠름\n",
    "- 단점(일반적인 스택 구현시)\n",
    "     - 데이터 최대 갯수를 미리 정해야 함\n",
    "        - 파이썬의 경우 재귀함수는 1000번까지만 호출 가능\n",
    "    - 저장 공간의 낭비 가능성\n",
    "        - 미리 최대 갯수만큼 저장 공간 확보 필요\n",
    "    - 대표적인 활용\n",
    "        - 컴퓨터 내부의 프로세스 구조의 함수 동작 방식\n",
    "        - 재귀 함수의 경우에도 stack 방식으로 재귀 함수를 쌓아놓았다가, 마지막에 호출된 재귀 함수 부터 실행 된다.\n",
    "        \n",
    "## Queue\n",
    "- 장단점 보다는 멀티 태스킹을 위한 프로세스 스케쥴링 방식을 구현하기 위해 많이 사용됨"
   ]
  },
  {
   "cell_type": "markdown",
   "id": "eea10a42",
   "metadata": {},
   "source": [
    "## 8. Linked List"
   ]
  },
  {
   "cell_type": "markdown",
   "id": "bf28fdac",
   "metadata": {},
   "source": [
    "#### Node 구현"
   ]
  },
  {
   "cell_type": "code",
   "execution_count": 22,
   "id": "b7779b6c",
   "metadata": {},
   "outputs": [],
   "source": [
    "class Node:\n",
    "    def __init__(self, data):\n",
    "        self.data = data\n",
    "        self.next = None"
   ]
  },
  {
   "cell_type": "code",
   "execution_count": 23,
   "id": "458add80",
   "metadata": {},
   "outputs": [],
   "source": [
    "class Node:\n",
    "    def __init__(self, data, next=None):\n",
    "        self.data = data\n",
    "        self.next = next"
   ]
  },
  {
   "cell_type": "markdown",
   "id": "ad6bec42",
   "metadata": {},
   "source": [
    "#### Node와 Node 연결하기 (포인터 활용)"
   ]
  },
  {
   "cell_type": "code",
   "execution_count": 25,
   "id": "b05bcb91",
   "metadata": {},
   "outputs": [],
   "source": [
    "node1 = Node(1)\n",
    "node2 = Node(2)\n",
    "node1.next = node2\n",
    "head = node1"
   ]
  },
  {
   "cell_type": "markdown",
   "id": "4549a811",
   "metadata": {},
   "source": [
    "#### 링크드 리스트로 데이터 추가하기"
   ]
  },
  {
   "cell_type": "code",
   "execution_count": 27,
   "id": "8a0136e8",
   "metadata": {},
   "outputs": [],
   "source": [
    "class Node:\n",
    "    def __init__(self, data, next=None):\n",
    "        self.data = data\n",
    "        self.next = next\n",
    "        \n",
    "def add(data):\n",
    "    node = head\n",
    "    while node.next:\n",
    "        node = node.next        \n",
    "    node.next = Node(data)"
   ]
  },
  {
   "cell_type": "code",
   "execution_count": 28,
   "id": "cb3f4755",
   "metadata": {},
   "outputs": [],
   "source": [
    "node1 = Node(1)\n",
    "head = node1\n",
    "for idx in range(2, 10):\n",
    "    add(idx)    "
   ]
  },
  {
   "cell_type": "markdown",
   "id": "0e35d141",
   "metadata": {},
   "source": [
    "#### 링크드 리스트 데이터 출력하기(검색하기)"
   ]
  },
  {
   "cell_type": "code",
   "execution_count": 29,
   "id": "73b02959",
   "metadata": {},
   "outputs": [
    {
     "name": "stdout",
     "output_type": "stream",
     "text": [
      "1\n",
      "2\n",
      "3\n",
      "4\n",
      "5\n",
      "6\n",
      "7\n",
      "8\n",
      "9\n"
     ]
    }
   ],
   "source": [
    "node = head\n",
    "while node.next:\n",
    "    print(node.data)\n",
    "    node = node.next\n",
    "print(node.data)"
   ]
  },
  {
   "cell_type": "markdown",
   "id": "6fb57a2e",
   "metadata": {},
   "source": [
    "#### node들 사이에 데이터 넣기"
   ]
  },
  {
   "cell_type": "code",
   "execution_count": 30,
   "id": "bf7bf9af",
   "metadata": {},
   "outputs": [],
   "source": [
    "node3 = Node(1.5)"
   ]
  },
  {
   "cell_type": "code",
   "execution_count": 31,
   "id": "c869a4ae",
   "metadata": {},
   "outputs": [],
   "source": [
    "node = head\n",
    "search = True\n",
    "while search:\n",
    "    if node.data == 1:\n",
    "        search = False\n",
    "    else:\n",
    "        node = node.next\n",
    "        \n",
    "node_next = node.next\n",
    "node.next = node3\n",
    "node3.next = node_next"
   ]
  },
  {
   "cell_type": "code",
   "execution_count": 32,
   "id": "900534bd",
   "metadata": {},
   "outputs": [
    {
     "name": "stdout",
     "output_type": "stream",
     "text": [
      "1\n",
      "1.5\n",
      "2\n",
      "3\n",
      "4\n",
      "5\n",
      "6\n",
      "7\n",
      "8\n",
      "9\n"
     ]
    }
   ],
   "source": [
    "node = head\n",
    "while node.next:\n",
    "    print(node.data)\n",
    "    node = node.next\n",
    "print(node.data)"
   ]
  },
  {
   "cell_type": "markdown",
   "id": "eff7d50a",
   "metadata": {},
   "source": [
    "#### 파이썬 객체지향 프로그래밍으로 링크드 리스트 구현하기"
   ]
  },
  {
   "cell_type": "code",
   "execution_count": 40,
   "id": "c7c23023",
   "metadata": {},
   "outputs": [],
   "source": [
    "class Node:\n",
    "    \n",
    "    def __init__(self, data, next=None):\n",
    "        self.data = data\n",
    "        self.next = next\n",
    "    \n",
    "    \n",
    "class NodeMgmt:\n",
    "    \n",
    "    def __init__(self, data):\n",
    "        self.head = Node(data)\n",
    "    \n",
    "    def add(self, data):\n",
    "        if self.head == \"\":\n",
    "            self.head = Node(data)\n",
    "        else:\n",
    "            node = self.head\n",
    "            while node.next:\n",
    "                node = node.next\n",
    "            node.next = Node(data)            \n",
    "\n",
    "    # 노드의 전체 데이터 출력\n",
    "    def desc(self):\n",
    "        node = self.head\n",
    "        while node:\n",
    "            print(node.data)\n",
    "            node = node.next\n",
    "            \n",
    "    def delete(self, data):\n",
    "        if self.head == \"\":\n",
    "            print(\"해당 값을 가진 노드가 없습니다.\")\n",
    "            return\n",
    "        \n",
    "        if self.head.data == data:\n",
    "            temp = self.head\n",
    "            self.head = self.head.next\n",
    "            del temp\n",
    "        else:\n",
    "            node = self.head\n",
    "            while node.next:\n",
    "                if node.next.data == data:\n",
    "                    temp = node.next\n",
    "                    node.next = node.next.next\n",
    "                    del temp\n",
    "                    return\n",
    "                else:\n",
    "                    node = node.next\n",
    "                    \n",
    "    # 특정한 값을 가진 노드 찾기\n",
    "    def search_node(self, data):\n",
    "        node = self.head\n",
    "        while node:\n",
    "            if node.data == data:\n",
    "                return node\n",
    "            else:\n",
    "                node = node.next"
   ]
  },
  {
   "cell_type": "markdown",
   "id": "40bc0906",
   "metadata": {},
   "source": [
    "#### 링크드 리스트 테스트"
   ]
  },
  {
   "cell_type": "code",
   "execution_count": 41,
   "id": "22425cd5",
   "metadata": {},
   "outputs": [
    {
     "name": "stdout",
     "output_type": "stream",
     "text": [
      "0\n"
     ]
    }
   ],
   "source": [
    "linked_list1 = NodeMgmt(0)\n",
    "linked_list1.desc()"
   ]
  },
  {
   "cell_type": "code",
   "execution_count": 45,
   "id": "e64cc93d",
   "metadata": {},
   "outputs": [],
   "source": [
    "linked_list1.head"
   ]
  },
  {
   "cell_type": "code",
   "execution_count": 44,
   "id": "357ee80b",
   "metadata": {},
   "outputs": [],
   "source": [
    "linked_list1.delete(0)"
   ]
  },
  {
   "cell_type": "code",
   "execution_count": 46,
   "id": "ed2ea753",
   "metadata": {},
   "outputs": [
    {
     "name": "stdout",
     "output_type": "stream",
     "text": [
      "0\n"
     ]
    }
   ],
   "source": [
    "linked_list1 = NodeMgmt(0)\n",
    "linked_list1.desc()"
   ]
  },
  {
   "cell_type": "code",
   "execution_count": 47,
   "id": "425a20bc",
   "metadata": {},
   "outputs": [
    {
     "name": "stdout",
     "output_type": "stream",
     "text": [
      "0\n",
      "1\n",
      "2\n",
      "3\n",
      "4\n",
      "5\n",
      "6\n",
      "7\n",
      "8\n",
      "9\n"
     ]
    }
   ],
   "source": [
    "for data in range(1, 10):\n",
    "    linked_list1.add(data)\n",
    "linked_list1.desc()"
   ]
  },
  {
   "cell_type": "code",
   "execution_count": 48,
   "id": "3424d779",
   "metadata": {},
   "outputs": [
    {
     "name": "stdout",
     "output_type": "stream",
     "text": [
      "0\n",
      "1\n",
      "2\n",
      "3\n",
      "5\n",
      "6\n",
      "7\n",
      "8\n",
      "9\n"
     ]
    }
   ],
   "source": [
    "linked_list1.delete(4)\n",
    "linked_list1.desc()"
   ]
  },
  {
   "cell_type": "code",
   "execution_count": 49,
   "id": "6ccd9c74",
   "metadata": {},
   "outputs": [
    {
     "name": "stdout",
     "output_type": "stream",
     "text": [
      "0\n",
      "1\n",
      "2\n",
      "3\n",
      "5\n",
      "6\n",
      "7\n",
      "8\n"
     ]
    }
   ],
   "source": [
    "linked_list1.delete(9)\n",
    "linked_list1.desc()"
   ]
  },
  {
   "cell_type": "markdown",
   "id": "cce8196e",
   "metadata": {},
   "source": [
    "#### 더블 링크드 리스트"
   ]
  },
  {
   "cell_type": "code",
   "execution_count": 72,
   "id": "fd6bbc84",
   "metadata": {},
   "outputs": [],
   "source": [
    "class Node:\n",
    "    def __init__(self, data, prev=None, next=None):\n",
    "        self.prev = prev\n",
    "        self.data = data\n",
    "        self.next = next\n",
    "        \n",
    "class NodeMgmt:\n",
    "    def __init__(self,data):\n",
    "        self.head = Node(data)\n",
    "        self.tail = self.head\n",
    "        \n",
    "    def insert(self, data):\n",
    "        if self.head == None:\n",
    "            self.Node(data)\n",
    "            self.tail = self.head\n",
    "        else:\n",
    "            node = self.head\n",
    "            while node.next:\n",
    "                node = node.next\n",
    "            new = Node(data)\n",
    "            node.next = new\n",
    "            new.prev = node\n",
    "            self.tail = new\n",
    "            \n",
    "    def desc(self):\n",
    "        node = self.head\n",
    "        while node:\n",
    "            print(node.data)\n",
    "            node = node.next\n",
    "            \n",
    "    def search_from_head(self, data):\n",
    "        if self.head == None:\n",
    "            return False\n",
    "        \n",
    "        node = self.head\n",
    "        while node:\n",
    "            if node.data == data:\n",
    "                return node\n",
    "            else:\n",
    "                node = node.next\n",
    "        return False\n",
    "    \n",
    "    def search_from_tail(self, data):\n",
    "        if self.head == None:\n",
    "            return False\n",
    "        \n",
    "        node = self.head\n",
    "        while node:\n",
    "            if node.data == data:\n",
    "                return node\n",
    "            else:\n",
    "                node = node.prev\n",
    "        return False\n",
    "    \n",
    "    # 특정 노드 앞에 데이터 넣기\n",
    "    def insert_before(self, data, before_data):\n",
    "        if self.head == None:\n",
    "            self.head = Node(data)\n",
    "            return True\n",
    "        else:\n",
    "            node = self.tail\n",
    "            while node.data != before_data:\n",
    "                node = node.prev\n",
    "                if node == None:\n",
    "                    return False\n",
    "            new = Node(data)\n",
    "            before_new = node.prev\n",
    "            before_new.next = new\n",
    "            new.next = node\n",
    "            new.prev = before_new\n",
    "            node.prev = new\n",
    "            return True\n",
    "            "
   ]
  },
  {
   "cell_type": "code",
   "execution_count": 73,
   "id": "3a370860",
   "metadata": {},
   "outputs": [
    {
     "name": "stdout",
     "output_type": "stream",
     "text": [
      "0\n",
      "1\n",
      "2\n",
      "3\n",
      "4\n",
      "5\n",
      "6\n",
      "7\n",
      "8\n",
      "9\n"
     ]
    }
   ],
   "source": [
    "double_linked_list = NodeMgmt(0)\n",
    "for data in range(1, 10):\n",
    "    double_linked_list.insert(data)\n",
    "double_linked_list.desc()"
   ]
  },
  {
   "cell_type": "code",
   "execution_count": 76,
   "id": "22e4e38a",
   "metadata": {},
   "outputs": [
    {
     "name": "stdout",
     "output_type": "stream",
     "text": [
      "3\n"
     ]
    }
   ],
   "source": [
    "node3 = double_linked_list.search_from_head(3)\n",
    "if node3:\n",
    "    print(node3.data)\n",
    "else:\n",
    "    print(\"No data\")"
   ]
  },
  {
   "cell_type": "code",
   "execution_count": 75,
   "id": "6175d309",
   "metadata": {},
   "outputs": [
    {
     "name": "stdout",
     "output_type": "stream",
     "text": [
      "0\n",
      "1\n",
      "1.5\n",
      "1.5\n",
      "2\n",
      "3\n",
      "4\n",
      "5\n",
      "6\n",
      "7\n",
      "8\n",
      "9\n"
     ]
    }
   ],
   "source": [
    "double_linked_list.insert_before(1.5, 2)\n",
    "double_linked_list.desc()"
   ]
  },
  {
   "cell_type": "markdown",
   "id": "4cd9b2e2",
   "metadata": {},
   "source": [
    "## 9. 시간 복잡도"
   ]
  },
  {
   "cell_type": "markdown",
   "id": "435ea62d",
   "metadata": {},
   "source": [
    "O(1) < O(logn) < O(n) < O(nlogn) < O(n^2) < O(2^n) < O(n!)"
   ]
  },
  {
   "cell_type": "code",
   "execution_count": 77,
   "id": "a09de84a",
   "metadata": {},
   "outputs": [],
   "source": [
    "# 1부터 n까지의 합을 구하는 알고리즘의 시간 복잡도\n",
    "# n번 만큼 돌게 됨으로 O(n)\n",
    "def sum_all(n):\n",
    "    total = 0\n",
    "    for num in range(1, n + 1):\n",
    "        total += num\n",
    "    return total"
   ]
  },
  {
   "cell_type": "code",
   "execution_count": 79,
   "id": "295eef77",
   "metadata": {},
   "outputs": [
    {
     "data": {
      "text/plain": [
       "5050"
      ]
     },
     "execution_count": 79,
     "metadata": {},
     "output_type": "execute_result"
    }
   ],
   "source": [
    "sum_all(100)"
   ]
  },
  {
   "cell_type": "code",
   "execution_count": 82,
   "id": "01028d22",
   "metadata": {},
   "outputs": [],
   "source": [
    "# 1부터 n까지의 합을 구하는 다른 알고리즘의 시간 복잡도\n",
    "# 무조건 한 번(상수 번) 실행됨으로 O(1)\n",
    "def sum_all(n):\n",
    "    return int(n * (n + 1) / 2)"
   ]
  },
  {
   "cell_type": "code",
   "execution_count": 83,
   "id": "6996ce3f",
   "metadata": {},
   "outputs": [
    {
     "data": {
      "text/plain": [
       "5050"
      ]
     },
     "execution_count": 83,
     "metadata": {},
     "output_type": "execute_result"
    }
   ],
   "source": [
    "sum_all(100)"
   ]
  },
  {
   "cell_type": "code",
   "execution_count": null,
   "id": "e4893930",
   "metadata": {},
   "outputs": [],
   "source": []
  }
 ],
 "metadata": {
  "kernelspec": {
   "display_name": "Python 3 (ipykernel)",
   "language": "python",
   "name": "python3"
  },
  "language_info": {
   "codemirror_mode": {
    "name": "ipython",
    "version": 3
   },
   "file_extension": ".py",
   "mimetype": "text/x-python",
   "name": "python",
   "nbconvert_exporter": "python",
   "pygments_lexer": "ipython3",
   "version": "3.9.7"
  }
 },
 "nbformat": 4,
 "nbformat_minor": 5
}
