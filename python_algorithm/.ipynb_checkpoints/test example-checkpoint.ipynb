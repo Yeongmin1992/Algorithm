{
 "cells": [
  {
   "cell_type": "markdown",
   "id": "5384f922",
   "metadata": {},
   "source": [
    "#### 백준 음계 2920"
   ]
  },
  {
   "cell_type": "code",
   "execution_count": 2,
   "id": "149d4798",
   "metadata": {},
   "outputs": [
    {
     "name": "stdout",
     "output_type": "stream",
     "text": [
      "1 3 5 7\n",
      "['1', '3', '5', '7']\n"
     ]
    }
   ],
   "source": [
    "a = list(map(int, input().split(' ')))\n",
    "print(a)"
   ]
  },
  {
   "cell_type": "code",
   "execution_count": null,
   "id": "3cb1c5d2",
   "metadata": {},
   "outputs": [],
   "source": [
    "a = list(map(int, input().split(' ')))\n",
    "\n",
    "asc = True\n",
    "dec = True\n",
    "\n",
    "for i in range(1, 8):\n",
    "    if a[i] > a[i - 1]:\n",
    "        dec = False\n",
    "    elif a[i] < a[i - 1]:\n",
    "        asc = False\n",
    "\n",
    "if asc:\n",
    "    print(\"ascending\")\n",
    "elif dec:\n",
    "    print(\"descending\")]\n",
    "else:\n",
    "    print(\"mixed\")\n",
    "    "
   ]
  },
  {
   "cell_type": "markdown",
   "id": "d4dd24d7",
   "metadata": {},
   "source": [
    "#### 백준 스택 수열 1874"
   ]
  },
  {
   "cell_type": "code",
   "execution_count": 4,
   "id": "f4c02e8c",
   "metadata": {},
   "outputs": [
    {
     "name": "stdout",
     "output_type": "stream",
     "text": [
      "1\n"
     ]
    }
   ],
   "source": [
    "n = int(input())\n",
    "\n",
    "count = 1\n",
    "stack = []\n",
    "result = []\n",
    "\n",
    "# 데이터 수 만큼 반복\n",
    "for i in range(1, n+1):\n",
    "    data = int(input())\n",
    "    # 입력 받은 데이터에 도달할 때 까지 삽입\n",
    "    while count <= data:\n",
    "        stack.append(count)\n",
    "        count += 1\n",
    "        result.append('+')\n",
    "    # 스택의 최상위 원소가 데이터와 같을 때 출력\n",
    "    if stack[-1] == data:\n",
    "        stack.pop\n",
    "        result.append('-')\n",
    "    # 불가능한 경우\n",
    "    else:\n",
    "        print(\"no\")\n",
    "        exit(0)\n",
    "\n",
    "# 가능한 경우\n",
    "print('\\n'.join(result))\n"
   ]
  },
  {
   "cell_type": "markdown",
   "id": "d3bc5b62",
   "metadata": {},
   "source": [
    "#### 백준 프린터 큐 1966"
   ]
  },
  {
   "cell_type": "code",
   "execution_count": null,
   "id": "b5c63d8d",
   "metadata": {},
   "outputs": [],
   "source": [
    "test_case = int(input())\n",
    "\n",
    "for _ in range(test_case):\n",
    "    n, m = list(map(int, input().split(' ')))\n",
    "    queue = list(map(int, input().split(' ')))\n",
    "    queue = [(i, idx) for idx, i in enumerate(queue)]\n",
    "    \n",
    "    count = 0\n",
    "    while True:\n",
    "        if queue[0][0] == max(queue, key = lambda x: x[0])[0]:\n",
    "            count += 1\n",
    "            if queue[0][1] == m:\n",
    "                print(count)\n",
    "                break\n",
    "            else:\n",
    "                queue.pop(0)\n",
    "        else:\n",
    "            queue.append(queue.pop(0))"
   ]
  },
  {
   "cell_type": "markdown",
   "id": "f39393e9",
   "metadata": {},
   "source": [
    "#### 백준 키로거 5397"
   ]
  },
  {
   "cell_type": "code",
   "execution_count": null,
   "id": "f3f595cc",
   "metadata": {},
   "outputs": [],
   "source": [
    "test_case = int(input())\n",
    "\n",
    "for _ in range(test_case):\n",
    "    left_stack = []\n",
    "    right_stack = []\n",
    "    data = input()\n",
    "    for i in data:\n",
    "        if i == '-':\n",
    "            if left_stack:\n",
    "                left_stack.pop()\n",
    "        elif i == \"<\":\n",
    "            if left_stack:\n",
    "                right_stack.append(left_stack.pop())\n",
    "        elif i == \">\":\n",
    "            if right_stack:\n",
    "                left_stack.append(right_stack.pop())\n",
    "        else:\n",
    "            left_stack.append(i)\n",
    "            \n",
    "    left_stack.extend(reversed(right_stack))\n",
    "    print(''.join(left_stack))"
   ]
  },
  {
   "cell_type": "code",
   "execution_count": null,
   "id": "5959cfed",
   "metadata": {},
   "outputs": [],
   "source": []
  },
  {
   "cell_type": "code",
   "execution_count": 44,
   "id": "dc039e53",
   "metadata": {},
   "outputs": [],
   "source": [
    "def solution(ingredients, startIndex, target):\n",
    "    \n",
    "    left_cost = [0] * 100\n",
    "    right_cost = [0] * 100\n",
    "    target_idx = []\n",
    "    for i in range(len(ingredients)):\n",
    "        if ingredients[i] == target:\n",
    "            target_idx.append(i)\n",
    "    print(target_idx)\n",
    "    \n",
    "    for idx in range(len(target_idx)):\n",
    "        current_idx = startIndex\n",
    "        while current_idx != target_idx[idx]:\n",
    "            if current_idx < 0:\n",
    "                current_idx = len(ingredients) - 1\n",
    "                if current_idx == target_idx[idx]:\n",
    "                    break\n",
    "            current_idx -= 1\n",
    "            left_cost[idx] += 1\n",
    "\n",
    "    for idx in range(len(target_idx)):\n",
    "        current_idx = startIndex        \n",
    "        while current_idx != target_idx[idx]:\n",
    "            if current_idx >= len(ingredients):\n",
    "                current_idx = 0\n",
    "                if current_idx == target_idx[idx]:\n",
    "                    break\n",
    "            current_idx += 1\n",
    "            right_cost[idx] += 1\n",
    "            \n",
    "    print(left_cost[:len(target_idx)])\n",
    "    print(right_cost[:len(target_idx)])\n",
    "        \n",
    "    if min(left_cost[:len(target_idx)]) <= min(right_cost[:len(target_idx)]):\n",
    "        return(min(left_cost[:len(target_idx)]))\n",
    "    else:\n",
    "        return(min(right_cost[:len(target_idx)]))"
   ]
  },
  {
   "cell_type": "code",
   "execution_count": 45,
   "id": "b339665a",
   "metadata": {},
   "outputs": [
    {
     "name": "stdout",
     "output_type": "stream",
     "text": [
      "[1]\n",
      "[0]\n",
      "[0]\n"
     ]
    },
    {
     "data": {
      "text/plain": [
       "0"
      ]
     },
     "execution_count": 45,
     "metadata": {},
     "output_type": "execute_result"
    }
   ],
   "source": [
    "solution(['a', 'b', 'c', 'd'], 1, 'b')"
   ]
  },
  {
   "cell_type": "code",
   "execution_count": 46,
   "id": "b8c39516",
   "metadata": {},
   "outputs": [
    {
     "name": "stdout",
     "output_type": "stream",
     "text": [
      "[0, 3, 4]\n",
      "[1, 4, 3]\n",
      "[5, 2, 3]\n"
     ]
    },
    {
     "data": {
      "text/plain": [
       "1"
      ]
     },
     "execution_count": 46,
     "metadata": {},
     "output_type": "execute_result"
    }
   ],
   "source": [
    "solution(['a', 'b', 'c', 'a', 'a', 'f'], 1, 'a')"
   ]
  },
  {
   "cell_type": "code",
   "execution_count": 47,
   "id": "2ea91002",
   "metadata": {},
   "outputs": [],
   "source": [
    "s = \"101\""
   ]
  },
  {
   "cell_type": "code",
   "execution_count": 48,
   "id": "29f3bbd9",
   "metadata": {},
   "outputs": [
    {
     "data": {
      "text/plain": [
       "3"
      ]
     },
     "execution_count": 48,
     "metadata": {},
     "output_type": "execute_result"
    }
   ],
   "source": [
    "len(s)"
   ]
  },
  {
   "cell_type": "code",
   "execution_count": 49,
   "id": "cffd2692",
   "metadata": {},
   "outputs": [
    {
     "data": {
      "text/plain": [
       "2"
      ]
     },
     "execution_count": 49,
     "metadata": {},
     "output_type": "execute_result"
    }
   ],
   "source": [
    "s.count(\"1\")\n",
    "    "
   ]
  },
  {
   "cell_type": "code",
   "execution_count": 50,
   "id": "b4882c4a",
   "metadata": {},
   "outputs": [],
   "source": [
    "a = \"\""
   ]
  },
  {
   "cell_type": "code",
   "execution_count": 51,
   "id": "0d616bb0",
   "metadata": {},
   "outputs": [
    {
     "data": {
      "text/plain": [
       "'111'"
      ]
     },
     "execution_count": 51,
     "metadata": {},
     "output_type": "execute_result"
    }
   ],
   "source": [
    "a += \"1\" * 3\n",
    "a"
   ]
  },
  {
   "cell_type": "code",
   "execution_count": 53,
   "id": "55f1e19f",
   "metadata": {},
   "outputs": [
    {
     "data": {
      "text/plain": [
       "'11100'"
      ]
     },
     "execution_count": 53,
     "metadata": {},
     "output_type": "execute_result"
    }
   ],
   "source": [
    "a += \"0\" * 2\n",
    "a"
   ]
  },
  {
   "cell_type": "code",
   "execution_count": 54,
   "id": "3ca8a35b",
   "metadata": {},
   "outputs": [
    {
     "data": {
      "text/plain": [
       "'00111'"
      ]
     },
     "execution_count": 54,
     "metadata": {},
     "output_type": "execute_result"
    }
   ],
   "source": [
    "b = a[::-1]\n",
    "b"
   ]
  },
  {
   "cell_type": "code",
   "execution_count": 56,
   "id": "2650f854",
   "metadata": {},
   "outputs": [
    {
     "data": {
      "text/plain": [
       "'1'"
      ]
     },
     "execution_count": 56,
     "metadata": {},
     "output_type": "execute_result"
    }
   ],
   "source": [
    "b[-1]"
   ]
  },
  {
   "cell_type": "code",
   "execution_count": 60,
   "id": "d27741b3",
   "metadata": {},
   "outputs": [
    {
     "data": {
      "text/plain": [
       "'0011'"
      ]
     },
     "execution_count": 60,
     "metadata": {},
     "output_type": "execute_result"
    }
   ],
   "source": [
    "c = b[:len(b) - 1]\n",
    "c"
   ]
  },
  {
   "cell_type": "code",
   "execution_count": 61,
   "id": "462e8e14",
   "metadata": {},
   "outputs": [],
   "source": [
    "d = \"1\"\n",
    "e = d[:len(d) - 1] "
   ]
  },
  {
   "cell_type": "code",
   "execution_count": 62,
   "id": "a4ccf686",
   "metadata": {},
   "outputs": [
    {
     "name": "stdout",
     "output_type": "stream",
     "text": [
      "\n"
     ]
    }
   ],
   "source": [
    "print(e)"
   ]
  },
  {
   "cell_type": "code",
   "execution_count": 1,
   "id": "dfa3a570",
   "metadata": {},
   "outputs": [],
   "source": [
    "def solution(s):\n",
    "    count_one = s.count(\"1\")\n",
    "    reversed_s = \"\"\n",
    "    tmp_s = \"\"\n",
    "    if count_one == 0 or count_one == len(s):\n",
    "        return s\n",
    "    else:\n",
    "        tmp_s += \"1\" * count_one\n",
    "        tmp_s += \"0\" * (len(s) - count_one)\n",
    "        \n",
    "        while tmp_s:\n",
    "            # 뒤집기\n",
    "            tmp_s = tmp_s[::-1]\n",
    "            # 마지막 문자를 reversed_s에 넣기\n",
    "            reversed_s += tmp_s[-1]\n",
    "            # 마지막 문자 삭제\n",
    "            tmp_s = tmp_s[:len(tmp_s) - 1]\n",
    "            \n",
    "        return reversed_s[::-1]"
   ]
  },
  {
   "cell_type": "code",
   "execution_count": 2,
   "id": "956774fe",
   "metadata": {},
   "outputs": [
    {
     "data": {
      "text/plain": [
       "'11101'"
      ]
     },
     "execution_count": 2,
     "metadata": {},
     "output_type": "execute_result"
    }
   ],
   "source": [
    "solution(\"01111\")"
   ]
  },
  {
   "cell_type": "code",
   "execution_count": 67,
   "id": "a3c07762",
   "metadata": {},
   "outputs": [
    {
     "data": {
      "text/plain": [
       "[1, 2, 3, 4]"
      ]
     },
     "execution_count": 67,
     "metadata": {},
     "output_type": "execute_result"
    }
   ],
   "source": [
    "student_list = []\n",
    "for i in range(4):\n",
    "        student_list.append(i + 1)\n",
    "        \n",
    "student_list"
   ]
  },
  {
   "cell_type": "code",
   "execution_count": null,
   "id": "5852b2c1",
   "metadata": {},
   "outputs": [],
   "source": []
  }
 ],
 "metadata": {
  "kernelspec": {
   "display_name": "Python 3 (ipykernel)",
   "language": "python",
   "name": "python3"
  },
  "language_info": {
   "codemirror_mode": {
    "name": "ipython",
    "version": 3
   },
   "file_extension": ".py",
   "mimetype": "text/x-python",
   "name": "python",
   "nbconvert_exporter": "python",
   "pygments_lexer": "ipython3",
   "version": "3.9.7"
  }
 },
 "nbformat": 4,
 "nbformat_minor": 5
}
