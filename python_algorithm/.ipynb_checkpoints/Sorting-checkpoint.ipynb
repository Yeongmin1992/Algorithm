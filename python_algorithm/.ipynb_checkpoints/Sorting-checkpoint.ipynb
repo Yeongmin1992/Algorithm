{
 "cells": [
  {
   "cell_type": "markdown",
   "id": "8c576cd3",
   "metadata": {},
   "source": [
    "## 1. 버블 정렬이란?\n",
    "- 두 인접한 데이터를 비교해서, 앞에 있는 데이터가 뒤에 있는 데이터 보다 크면, 자리를 바꾸는 정렬 알고리즘\n",
    "- 반복문 2번으로 O(n^2)\n",
    "    - 최악의 경우, n(n-1)/2\n",
    "    - 완전 정렬이 되어 있는 상태라면 최선은 O(n)"
   ]
  },
  {
   "cell_type": "code",
   "execution_count": 3,
   "id": "97c3ae1d",
   "metadata": {},
   "outputs": [],
   "source": [
    "def bubble_sort(data):\n",
    "    for idx in range(len(data) - 1):\n",
    "        swap = False\n",
    "        for idx2 in range(len(data) - idx - 1):\n",
    "            if data[idx2] > data[idx2 + 1]:\n",
    "                data[idx2], data[idx2 + 1] = data[idx2 + 1], data[idx2]\n",
    "                swap = True\n",
    "                \n",
    "        if swap == False:\n",
    "            break\n",
    "    return data"
   ]
  },
  {
   "cell_type": "code",
   "execution_count": 6,
   "id": "0a471274",
   "metadata": {},
   "outputs": [
    {
     "name": "stdout",
     "output_type": "stream",
     "text": [
      "[2, 3, 5, 6, 9, 11, 12, 13, 14, 16, 17, 19, 20, 21, 22, 24, 27, 29, 30, 34, 35, 36, 38, 39, 40, 42, 43, 44, 45, 48, 51, 53, 54, 55, 57, 58, 59, 60, 72, 73, 75, 78, 80, 85, 86, 88, 93, 96, 97, 98]\n"
     ]
    }
   ],
   "source": [
    "import random\n",
    "\n",
    "data_list = random.sample(range(100), 50)\n",
    "print(bubble_sort(data_list))"
   ]
  },
  {
   "cell_type": "markdown",
   "id": "af61999e",
   "metadata": {},
   "source": [
    "## 2. 삽입 정렬이란?\n",
    "- 삽입 정렬은 두 번째 인덱스부터 시작\n",
    "- 해당 인덱스(key 값) 앞에 있는 데이터(B) 부터 비교해서 key 값이 더 작으면, B값을 뒤 인덱스로 복사\n",
    "- 이를 key 값이 더 큰 데이터를 만날 때 까지 반복, 그리고 큰 데이터를 만난 위치 바로 뒤에 key 값을 이동\n",
    "- 반복문 2번으로 O(n^2)\n",
    "    - 최악의 경우, n(n-1)/2\n",
    "    - 완전 정렬이 되어 있는 상태라면 최선은 O(n)"
   ]
  },
  {
   "cell_type": "code",
   "execution_count": 10,
   "id": "c18b2dd9",
   "metadata": {},
   "outputs": [],
   "source": [
    "def insertion_sort(data):\n",
    "    for idx in range(len(data) - 1):\n",
    "        for idx2 in range(idx + 1, 0, -1):\n",
    "            if data[idx2] < data[idx2 - 1]:\n",
    "                data[idx2], data[idx2 - 1] = data[idx2 - 1], data[idx2]\n",
    "            else:\n",
    "                break\n",
    "    return data"
   ]
  },
  {
   "cell_type": "code",
   "execution_count": 11,
   "id": "014a8653",
   "metadata": {},
   "outputs": [
    {
     "name": "stdout",
     "output_type": "stream",
     "text": [
      "[3, 5, 9, 14, 16, 17, 18, 19, 20, 22, 23, 24, 26, 30, 31, 32, 33, 34, 36, 38, 43, 46, 48, 49, 50, 52, 53, 55, 56, 57, 58, 60, 61, 62, 63, 67, 70, 71, 74, 77, 78, 79, 80, 82, 88, 90, 92, 93, 97, 99]\n"
     ]
    }
   ],
   "source": [
    "import random\n",
    "\n",
    "data_list = random.sample(range(100), 50)\n",
    "print(insertion_sort(data_list))"
   ]
  },
  {
   "cell_type": "markdown",
   "id": "fbc6199c",
   "metadata": {},
   "source": [
    "## 3. 선택 정렬이란?\n",
    "- 다음과 같은 순서를 반복하며 정렬하는 알고리즘\n",
    "    1. 주어진 데이터 중, 최소값을 찾음\n",
    "    2. 해당 최소값을 데이터 맨 앞에 위치한 값과 교체함\n",
    "    3. 맨 앞의 위치를 뺀 나머지 데이터를 동일한 방법으로 반복함\n",
    "- 반복문 2번으로 O(n^2)\n",
    "    - 최악의 경우, n(n-1)/2"
   ]
  },
  {
   "cell_type": "code",
   "execution_count": 14,
   "id": "d9bd3d53",
   "metadata": {},
   "outputs": [],
   "source": [
    "def selection_sort(data):\n",
    "    for stand in range(len(data) - 1):\n",
    "        min = stand\n",
    "        for idx in range(stand + 1, len(data)):\n",
    "            if data[min] > data[idx]:\n",
    "                min = idx\n",
    "        data[min], data[stand] = data[stand], data[min]\n",
    "    return data"
   ]
  },
  {
   "cell_type": "code",
   "execution_count": 15,
   "id": "180e124f",
   "metadata": {},
   "outputs": [
    {
     "name": "stdout",
     "output_type": "stream",
     "text": [
      "[0, 2, 7, 12, 16, 47, 66, 78, 81, 86]\n"
     ]
    }
   ],
   "source": [
    "import random\n",
    "\n",
    "data_list = random.sample(range(100), 10)\n",
    "print(selection_sort(data_list))"
   ]
  },
  {
   "cell_type": "code",
   "execution_count": null,
   "id": "45470881",
   "metadata": {},
   "outputs": [],
   "source": []
  }
 ],
 "metadata": {
  "kernelspec": {
   "display_name": "Python 3 (ipykernel)",
   "language": "python",
   "name": "python3"
  },
  "language_info": {
   "codemirror_mode": {
    "name": "ipython",
    "version": 3
   },
   "file_extension": ".py",
   "mimetype": "text/x-python",
   "name": "python",
   "nbconvert_exporter": "python",
   "pygments_lexer": "ipython3",
   "version": "3.9.7"
  }
 },
 "nbformat": 4,
 "nbformat_minor": 5
}
