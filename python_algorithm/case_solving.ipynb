{
 "cells": [
  {
   "cell_type": "markdown",
   "id": "75906d6f",
   "metadata": {},
   "source": [
    "### 백준 문풀"
   ]
  },
  {
   "cell_type": "markdown",
   "id": "4d58959c",
   "metadata": {},
   "source": [
    "#### 2920"
   ]
  },
  {
   "cell_type": "code",
   "execution_count": 27,
   "id": "43834ac0",
   "metadata": {},
   "outputs": [
    {
     "name": "stdout",
     "output_type": "stream",
     "text": [
      "8 1 7 2 6 3 5 4\n",
      "[8, 1, 7, 2, 6, 3, 5, 4]\n",
      "[1, 2, 3, 4, 5, 6, 7, 8]\n",
      "[8, 7, 6, 5, 4, 3, 2, 1]\n",
      "mixed\n"
     ]
    }
   ],
   "source": [
    "input_array = input(\"\")\n",
    "input_array1 = input_array.split(\" \")\n",
    "input_array2 = [int(i) for i in input_array1]\n",
    "\n",
    "print(input_array2)\n",
    "print(sorted(input_array2))\n",
    "print(sorted(input_array2, reverse=True))\n",
    "\n",
    "if input_array2 == sorted(input_array2):\n",
    "    print(\"ascending\")\n",
    "elif input_array2 == sorted(input_array2, reverse=True):\n",
    "    print(\"descending\")\n",
    "else:\n",
    "    print(\"mixed\")"
   ]
  },
  {
   "cell_type": "code",
   "execution_count": 24,
   "id": "6fc4b063",
   "metadata": {},
   "outputs": [
    {
     "name": "stdout",
     "output_type": "stream",
     "text": [
      "1 2 3 4 5 6 7 8\n",
      "ascending\n"
     ]
    }
   ],
   "source": [
    "# 패켐 풀이\n",
    "\n",
    "a = list(map(int, input().split(' ')))\n",
    "\n",
    "ascending = True\n",
    "descending = True\n",
    "\n",
    "for i in range(1, 8):\n",
    "    if a[i] > a[i - 1]:\n",
    "        descending = False\n",
    "    elif a[i] < a[i - 1]:\n",
    "        ascending = False\n",
    "\n",
    "if ascending:\n",
    "    print('ascending')\n",
    "elif descending:\n",
    "    print('descending')\n",
    "else:\n",
    "    print('mixed')"
   ]
  },
  {
   "cell_type": "markdown",
   "id": "6e6d4731",
   "metadata": {},
   "source": [
    "#### 2798"
   ]
  },
  {
   "cell_type": "code",
   "execution_count": 30,
   "id": "573a251c",
   "metadata": {},
   "outputs": [
    {
     "name": "stdout",
     "output_type": "stream",
     "text": [
      "5 21\n",
      "5 6 7 8 9\n",
      "21\n"
     ]
    }
   ],
   "source": [
    "n, m = list(map(int, input().split(' ')))\n",
    "b = sorted(list(map(int, input().split(' '))))\n",
    "\n",
    "answer = 0\n",
    "for i in range(a[0] - 2):\n",
    "    for j in range(i + 1, a[0] - 1):\n",
    "        for x in range(j + 1, a[0]):\n",
    "            if b[i] + b[j] + b[x] > answer and b[i] + b[j] + b[x] <= a[1]:\n",
    "                answer = b[i] + b[j] + b[x]\n",
    "\n",
    "print(answer)\n",
    "    "
   ]
  },
  {
   "cell_type": "markdown",
   "id": "7ac83dae",
   "metadata": {},
   "source": [
    "#### 1874"
   ]
  },
  {
   "cell_type": "code",
   "execution_count": 17,
   "id": "a0aa8c07",
   "metadata": {
    "scrolled": true
   },
   "outputs": [
    {
     "name": "stdout",
     "output_type": "stream",
     "text": [
      "8\n",
      "4\n",
      "3\n",
      "6\n",
      "8\n",
      "7\n",
      "5\n",
      "2\n",
      "1\n",
      "+\n",
      "+\n",
      "+\n",
      "+\n",
      "-\n",
      "check\n",
      "[4, 3]\n",
      "temp\n",
      "[1, 2]\n",
      "+\n",
      "+\n",
      "-\n",
      "check\n",
      "[4, 3, 6]\n",
      "temp\n",
      "[1, 2, 5]\n",
      "+\n",
      "+\n",
      "-\n",
      "check\n",
      "[4, 3, 6, 8]\n",
      "temp\n",
      "[1, 2, 5, 7]\n",
      "-\n",
      "check\n",
      "[4, 3, 6, 8, 7]\n",
      "temp\n",
      "[1, 2, 5]\n",
      "-\n",
      "check\n",
      "[4, 3, 6, 8, 7, 5]\n",
      "temp\n",
      "[1, 2]\n",
      "-\n",
      "check\n",
      "[4, 3, 6, 8, 7, 5, 2]\n",
      "temp\n",
      "[1]\n",
      "-\n",
      "check\n",
      "[4, 3, 6, 8, 7, 5, 2, 1]\n",
      "temp\n",
      "[]\n"
     ]
    }
   ],
   "source": [
    "n = int(input())\n",
    "temp_list = []\n",
    "check_list = []\n",
    "target_list = []\n",
    "for i in range(n):\n",
    "    target_list.append(int(input()))\n",
    "\n",
    "for i in range(1, target_list[0] + 1):\n",
    "    print('+')\n",
    "    temp_list.append(i)\n",
    "    \n",
    "check_list.append(temp_list.pop())\n",
    "\n",
    "for val in target_list[1:]:\n",
    "    if val in temp_list:\n",
    "        if val == max(temp_list):\n",
    "            print('-')\n",
    "            check_list.append(temp_list.pop())\n",
    "        else:\n",
    "            break\n",
    "    else:\n",
    "        for i in range(max(check_list) + 1, val + 1):\n",
    "            print('+')\n",
    "            temp_list.append(i)\n",
    "        print('-')\n",
    "        check_list.append(temp_list.pop())\n",
    "\n",
    "if check_list != target_list:\n",
    "    print(\"NO\")"
   ]
  },
  {
   "cell_type": "code",
   "execution_count": null,
   "id": "577289a4",
   "metadata": {},
   "outputs": [],
   "source": [
    "# 패캠 풀이\n",
    "\n",
    "n = int(input())\n",
    "\n",
    "count = 1\n",
    "stack = []\n",
    "result = []\n",
    "\n",
    "for i in range(1, n + 1): # 데이터 갯수 만큼 반복\n",
    "    data = int(input())\n",
    "    while count <= data: # 입력 받은 데이터에 도달할 때 까지 삽입\n",
    "        stack.append(count)\n",
    "        count += 1\n",
    "        result.append('+')\n",
    "    if stack[-1] == data: # 스택의 최상위 원소가 데이터와 같을 때 출력\n",
    "        stack.pop()\n",
    "        result.append('-')\n",
    "    else: # 불가능한 경우\n",
    "        print('NO')\n",
    "        exit(0)\n",
    "        \n",
    "print('\\n'.join(result)) # 가능한 경우"
   ]
  },
  {
   "cell_type": "markdown",
   "id": "2046c036",
   "metadata": {},
   "source": [
    "#### 1966"
   ]
  },
  {
   "cell_type": "code",
   "execution_count": 22,
   "id": "a67837eb",
   "metadata": {},
   "outputs": [
    {
     "name": "stdout",
     "output_type": "stream",
     "text": [
      "3\n",
      "1 0\n",
      "5\n",
      "1\n",
      "4 2\n",
      "1 2 3 4\n",
      "2\n",
      "6 0\n",
      "1 1 9 1 1 1\n",
      "5\n"
     ]
    }
   ],
   "source": [
    "n = int(input())\n",
    "count = 0\n",
    "\n",
    "for _ in range(n):\n",
    "    list_size, target_order = list(map(int, input().split(' ')))\n",
    "    priority_list = list(map(int, input().split(' ')))\n",
    "    while True:\n",
    "        if target_order == 0 and priority_list[0] == max(priority_list):\n",
    "            count += 1\n",
    "            print(count)\n",
    "            count = 0\n",
    "            break\n",
    "        elif priority_list[0] == max(priority_list):\n",
    "            del priority_list[0]\n",
    "            target_order -= 1\n",
    "            count += 1\n",
    "        else:\n",
    "            priority_list.append(priority_list[0])\n",
    "            del priority_list[0]\n",
    "            if target_order == 0:\n",
    "                target_order = len(priority_list) - 1\n",
    "            else:\n",
    "                target_order -= 1\n",
    "                \n",
    "    "
   ]
  },
  {
   "cell_type": "code",
   "execution_count": 23,
   "id": "4137a3f3",
   "metadata": {},
   "outputs": [
    {
     "name": "stdout",
     "output_type": "stream",
     "text": [
      "1\n",
      "1 0\n",
      "5\n",
      "1\n"
     ]
    }
   ],
   "source": [
    "# 패캠 풀이\n",
    "test_case = int(input())\n",
    "\n",
    "for _ in range(test_case):\n",
    "    n, m = list(map(int, input().split(' ')))\n",
    "    queue = list(map(int, input().split(' ')))\n",
    "    queue = [(i, idx) for idx, i in enumerate(queue)]\n",
    "    \n",
    "    count = 0\n",
    "    while True:\n",
    "        if queue[0][0] == max(queue, key=lambda x: x[0])[0]:\n",
    "            count += 1\n",
    "            if queue[0][1] == m:\n",
    "                print(count)\n",
    "                break\n",
    "            else:\n",
    "                queue.pop(0)\n",
    "        else:\n",
    "            queue.append(queue.pop(0))\n",
    "        \n",
    "    "
   ]
  },
  {
   "cell_type": "code",
   "execution_count": null,
   "id": "a06b43e5",
   "metadata": {},
   "outputs": [],
   "source": []
  }
 ],
 "metadata": {
  "kernelspec": {
   "display_name": "Python 3 (ipykernel)",
   "language": "python",
   "name": "python3"
  },
  "language_info": {
   "codemirror_mode": {
    "name": "ipython",
    "version": 3
   },
   "file_extension": ".py",
   "mimetype": "text/x-python",
   "name": "python",
   "nbconvert_exporter": "python",
   "pygments_lexer": "ipython3",
   "version": "3.9.7"
  }
 },
 "nbformat": 4,
 "nbformat_minor": 5
}
